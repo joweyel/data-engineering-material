{
 "cells": [
  {
   "cell_type": "markdown",
   "metadata": {},
   "source": [
    "## Module 1 Homework\n",
    "\n",
    "## Docker & SQL\n",
    "\n",
    "In this homework we'll prepare the environment \n",
    "and practice with Docker and SQL\n",
    "\n",
    "\n",
    "## Question 1. Knowing docker tags\n",
    "\n",
    "Run the command to get information on Docker \n",
    "\n",
    "```docker --help```\n",
    "\n",
    "Now run the command to get help on the \"docker build\" command:\n",
    "\n",
    "```docker build --help```\n",
    "\n",
    "Do the same for \"docker run\".\n",
    "\n",
    "Which tag has the following text? - *Automatically remove the container when it exits* \n",
    "\n",
    "- `--delete`\n",
    "- `--rc`\n",
    "- `--rmc`\n",
    "- `--rm`"
   ]
  },
  {
   "cell_type": "markdown",
   "metadata": {},
   "source": [
    "**Solution:**"
   ]
  },
  {
   "cell_type": "markdown",
   "metadata": {},
   "source": [
    "`--rm` Automatically removes the container when it exits\n"
   ]
  },
  {
   "cell_type": "markdown",
   "metadata": {},
   "source": [
    "## Question 2. Understanding docker first run \n",
    "\n",
    "Run docker with the python:3.9 image in an interactive mode and the entrypoint of bash.\n",
    "Now check the python modules that are installed ( use ```pip list``` ). \n",
    "\n",
    "What is version of the package *wheel* ?\n",
    "\n",
    "- 0.42.0\n",
    "- 1.0.0\n",
    "- 23.0.1\n",
    "- 58.1.0"
   ]
  },
  {
   "cell_type": "markdown",
   "metadata": {},
   "source": [
    "**Solution:**"
   ]
  },
  {
   "cell_type": "markdown",
   "metadata": {},
   "source": [
    "To create the docker container, the following command is used:\n",
    "```sh\n",
    "docker run -it --entrypoint=bash python:3.9\n",
    "```\n",
    "To get the version of the python-package `wheel` the following command is used:\n",
    "```sh\n",
    "pip list | grep wheel\n",
    "``` \n",
    "This results in `wheel 0.42.0`"
   ]
  },
  {
   "cell_type": "markdown",
   "metadata": {},
   "source": [
    "# Prepare Postgres\n",
    "\n",
    "Run Postgres and load data as shown in the videos\n",
    "We'll use the green taxi trips from September 2019:\n",
    "\n",
    "```wget https://github.com/DataTalksClub/nyc-tlc-data/releases/download/green/green_tripdata_2019-09.csv.gz```\n",
    "\n",
    "You will also need the dataset with zones:\n",
    "\n",
    "```wget https://s3.amazonaws.com/nyc-tlc/misc/taxi+_zone_lookup.csv```\n",
    "\n",
    "Download this data and put it into Postgres (with jupyter notebooks or with a pipeline)"
   ]
  },
  {
   "cell_type": "markdown",
   "metadata": {},
   "source": [
    "For this purpose 2 container are created and run with docker-compose\n",
    "- Container with `pgAdmin4`\n",
    "- Container with `postgresql` database"
   ]
  },
  {
   "cell_type": "markdown",
   "metadata": {},
   "source": [
    "```bash\n",
    "URL=https://github.com/DataTalksClub/nyc-tlc-data/releases/download/green/green_tripdata_2019-09.csv.gz\n",
    "\n",
    "python ingest_data.py \\\n",
    "  --user=root \\\n",
    "  --password=root \\\n",
    "  --host=localhost \\\n",
    "  --port=5432 \\\n",
    "  --db=ny_taxi \\\n",
    "  --table_name=green_taxi_trips \\\n",
    "  --url=${URL}\n",
    "\n",
    "URL=https://s3.amazonaws.com/nyc-tlc/misc/taxi+_zone_lookup.csv\n",
    "\n",
    "python ingest_data.py \\\n",
    "  --user=root \\\n",
    "  --password=root \\\n",
    "  --host=localhost \\\n",
    "  --port=5432 \\\n",
    "  --db=ny_taxi \\\n",
    "  --table_name=zones \\\n",
    "  --url=${URL}\n",
    "\n",
    "```"
   ]
  },
  {
   "cell_type": "markdown",
   "metadata": {},
   "source": [
    "Done!"
   ]
  },
  {
   "cell_type": "markdown",
   "metadata": {},
   "source": [
    "## Question 3. Count records \n",
    "\n",
    "How many taxi trips were totally made on September 18th 2019?\n",
    "\n",
    "Tip: started and finished on 2019-09-18. \n",
    "\n",
    "Remember that `lpep_pickup_datetime` and `lpep_dropoff_datetime` columns are in the format timestamp (date and hour+min+sec) and not in date.\n",
    "\n",
    "- 15767\n",
    "- 15612\n",
    "- 15859\n",
    "- 89009"
   ]
  },
  {
   "cell_type": "markdown",
   "metadata": {},
   "source": [
    "**Solution**:"
   ]
  },
  {
   "cell_type": "markdown",
   "metadata": {},
   "source": [
    "*Query:*\n",
    "```sql\n",
    "SELECT\n",
    "\tCOUNT(*)\n",
    "FROM\n",
    "\tgreen_taxi_trips\n",
    "WHERE\n",
    "\tDATE(lpep_pickup_datetime) = '2019-09-18' AND\n",
    "\tDATE(lpep_dropoff_datetime) = '2019-09-18';\n",
    "```\n",
    "\n",
    "*Result*: 15612"
   ]
  },
  {
   "cell_type": "markdown",
   "metadata": {},
   "source": [
    "## Question 4. Largest trip for each day\n",
    "\n",
    "Which was the pick up day with the largest trip distance\n",
    "Use the pick up time for your calculations.\n",
    "\n",
    "- 2019-09-18\n",
    "- 2019-09-16\n",
    "- 2019-09-26\n",
    "- 2019-09-21"
   ]
  },
  {
   "cell_type": "markdown",
   "metadata": {},
   "source": [
    "**Solution**:"
   ]
  },
  {
   "cell_type": "markdown",
   "metadata": {},
   "source": [
    "*Query*:\n",
    "```sql\n",
    "SELECT\n",
    "\tDATE(lpep_pickup_datetime)\n",
    "FROM\n",
    "\tgreen_taxi_trips\n",
    "ORDER BY\n",
    "\ttrip_distance DESC\n",
    "LIMIT\n",
    "\t1;\n",
    "```\n",
    "\n",
    "*Result*:\n",
    "- **`date`**: `2019-09-26`\n",
    "- **`trip_distance`**: `341.64`"
   ]
  },
  {
   "cell_type": "markdown",
   "metadata": {},
   "source": [
    "## Question 5. The number of passengers\n",
    "\n",
    "Consider `lpep_pickup_datetime` in '2019-09-18' and ignoring Borough has `Unknown`\n",
    "\n",
    "Which were the 3 pick up Boroughs that had a sum of total_amount superior to 50000?\n",
    " \n",
    "- \"Brooklyn\" \"Manhattan\" \"Queens\"\n",
    "- \"Bronx\" \"Brooklyn\" \"Manhattan\"\n",
    "- \"Bronx\" \"Manhattan\" \"Queens\" \n",
    "- \"Brooklyn\" \"Queens\" \"Staten Island\"\n"
   ]
  },
  {
   "cell_type": "markdown",
   "metadata": {},
   "source": [
    "**Solution**:"
   ]
  },
  {
   "cell_type": "markdown",
   "metadata": {},
   "source": [
    "*Query*:\n",
    "```sql\n",
    "SELECT\n",
    "\tz.\"Borough\",  -- Name of Borough\n",
    "\tSUM(t.total_amount) AS borough_amount -- sum amount of Borough-group\n",
    "FROM\n",
    "\tgreen_taxi_trips AS t\n",
    "JOIN zones AS z\t-- Joining the taxi and zones table (to obtain Names)\n",
    "\tON t.\"PULocationID\" = z.\"LocationID\"\n",
    "WHERE\n",
    "\tDATE(t.lpep_pickup_datetime) = '2019-09-18' AND  -- at given date\n",
    "\tz.\"Borough\" != 'Unknown'  -- removing \"Unknown\"\n",
    "GROUP BY   -- Grouping by Borough\n",
    "\tz.\"Borough\"\n",
    "HAVING \t   -- Only use grouped values of amounts over 50k  \n",
    "\tSUM(t.total_amount) > 50000\n",
    "ORDER BY   -- Sort by sum amount in Borough descending\n",
    "\tborough_amount DESC\n",
    "LIMIT 3;\n",
    "```\n",
    "\n",
    "Output:\n",
    "\n",
    "|   | **`Borough`**<br> (text) | **`borough_amount`**<br> (double)    |\n",
    "| - | ------------------------ | ------------------------------------ |\n",
    "| 1 | Brooklyn\t\t\t\t   | 96333.24\t\t\t\t\t\t\t  |\n",
    "| 2 | Manhattan \t\t\t   | 92271.30\t\t\t\t\t\t\t  |\n",
    "| 3 | Queens\t\t\t\t   | 78671.71\t\t\t\t\t\t\t  |"
   ]
  },
  {
   "cell_type": "markdown",
   "metadata": {},
   "source": [
    "## Question 6. Largest tip\n",
    "\n",
    "For the passengers picked up in September 2019 in the zone name Astoria which was the drop off zone that had the largest tip?\n",
    "We want the name of the zone, not the id.\n",
    "\n",
    "Note: it's not a typo, it's `tip` , not `trip`\n",
    "\n",
    "- Central Park\n",
    "- Jamaica\n",
    "- JFK Airport\n",
    "- Long Island City/Queens Plaza\n"
   ]
  },
  {
   "cell_type": "markdown",
   "metadata": {},
   "source": [
    "**Solution**:"
   ]
  },
  {
   "cell_type": "markdown",
   "metadata": {},
   "source": [
    "*Query*:\n",
    "```sql\n",
    "-- For the passengers picked up in September 2019 in the zone name Astoria \n",
    "-- which was the drop off zone that had the largest tip?\n",
    "\n",
    "SELECT\n",
    "\tzdo.\"Zone\" AS dropoff_zone,\n",
    "\tMAX(t.tip_amount) AS max_zone_tip\n",
    "FROM\n",
    "\tgreen_taxi_trips AS t\n",
    "JOIN zones AS zpu\n",
    "\tON t.\"PULocationID\" = zpu.\"LocationID\"\n",
    "JOIN zones AS zdo\n",
    "\tON t.\"DOLocationID\" = zdo.\"LocationID\"\n",
    "WHERE\n",
    "\tzpu.\"Zone\" = 'Astoria' AND\n",
    "\tTO_CHAR(lpep_pickup_datetime, 'YYYY-MM') = '2019-09' \n",
    "GROUP BY\n",
    "\tdropoff_zone\n",
    "ORDER BY\n",
    "\tmax_zone_tip DESC\n",
    "LIMIT\n",
    "\t1;\n",
    "```\n",
    "*Result*:\n",
    "- **`dropoff_zone`**: JFK Airport\n",
    "- **`max_zone_tip`**: 62.31\n"
   ]
  },
  {
   "cell_type": "markdown",
   "metadata": {},
   "source": [
    "## Terraform\n",
    "\n",
    "In this section homework we'll prepare the environment by creating resources in GCP with Terraform.\n",
    "\n",
    "In your VM on GCP/Laptop/GitHub Codespace install Terraform. \n",
    "Copy the files from the course repo\n",
    "[here](https://github.com/DataTalksClub/data-engineering-zoomcamp/tree/main/01-docker-terraform/1_terraform_gcp/terraform) to your VM/Laptop/GitHub Codespace.\n",
    "\n",
    "Modify the files as necessary to create a GCP Bucket and Big Query Dataset.\n"
   ]
  },
  {
   "cell_type": "markdown",
   "metadata": {},
   "source": [
    "## Question 7. Creating Resources\n",
    "\n",
    "After updating the main.tf and variable.tf files run:\n",
    "\n",
    "```\n",
    "terraform apply\n",
    "```\n",
    "\n",
    "Paste the output of this command into the homework submission form.\n"
   ]
  },
  {
   "cell_type": "markdown",
   "metadata": {},
   "source": [
    "**Solution**:\n",
    "The terraform-files used for this task can be found in the sub-directory [terraform/](terraform/). To avoid putting the gcp-credentials or the local path to the credentials into the terraform-files, an environment variable is used.\n",
    "\n",
    "```bash\n",
    "export TF_VAR_credentials=path/to/gcp-credentials.json\n",
    "```\n",
    "This specific type of environment-variable `TF_VAR_<name-of-variable>` has the property that Terraform uses them for the value specified, without providing them in the `variables.tf` file. The default value for the credentials in the [variables.tf](terraform/variables.tf) is left blank and overwritten by `TF_VAR_credentials`."
   ]
  },
  {
   "cell_type": "markdown",
   "metadata": {},
   "source": [
    "```yaml\n",
    "Terraform used the selected providers to generate the following execution plan. Resource actions are indicated with the\n",
    "following symbols:\n",
    "  + create\n",
    "\n",
    "Terraform will perform the following actions:\n",
    "\n",
    "  # google_bigquery_dataset.Homework1_dataset will be created\n",
    "  + resource \"google_bigquery_dataset\" \"Homework1_dataset\" {\n",
    "      + creation_time              = (known after apply)\n",
    "      + dataset_id                 = \"homework1_dataset_410018\"\n",
    "      + default_collation          = (known after apply)\n",
    "      + delete_contents_on_destroy = false\n",
    "      + effective_labels           = (known after apply)\n",
    "      + etag                       = (known after apply)\n",
    "      + id                         = (known after apply)\n",
    "      + is_case_insensitive        = (known after apply)\n",
    "      + last_modified_time         = (known after apply)\n",
    "      + location                   = \"EU\"\n",
    "      + max_time_travel_hours      = (known after apply)\n",
    "      + project                    = \"dtc-de-410018\"\n",
    "      + self_link                  = (known after apply)\n",
    "      + storage_billing_model      = (known after apply)\n",
    "      + terraform_labels           = (known after apply)\n",
    "    }\n",
    "\n",
    "  # google_storage_bucket.Homework1-bucket will be created\n",
    "  + resource \"google_storage_bucket\" \"Homework1-bucket\" {\n",
    "      + effective_labels            = (known after apply)\n",
    "      + force_destroy               = true\n",
    "      + id                          = (known after apply)\n",
    "      + location                    = \"EU\"\n",
    "      + name                        = \"bucket-410018\"\n",
    "      + project                     = (known after apply)\n",
    "      + public_access_prevention    = (known after apply)\n",
    "      + self_link                   = (known after apply)\n",
    "      + storage_class               = \"STANDARD\"\n",
    "      + terraform_labels            = (known after apply)\n",
    "      + uniform_bucket_level_access = (known after apply)\n",
    "      + url                         = (known after apply)\n",
    "\n",
    "      + lifecycle_rule {\n",
    "          + action {\n",
    "              + type = \"AbortIncompleteMultipartUpload\"\n",
    "            }\n",
    "          + condition {\n",
    "              + age                   = 1\n",
    "              + matches_prefix        = []\n",
    "              + matches_storage_class = []\n",
    "              + matches_suffix        = []\n",
    "              + with_state            = (known after apply)\n",
    "            }\n",
    "        }\n",
    "    }\n",
    "\n",
    "Plan: 2 to add, 0 to change, 0 to destroy.\n",
    "```"
   ]
  }
 ],
 "metadata": {
  "kernelspec": {
   "display_name": "Python 3",
   "language": "python",
   "name": "python3"
  },
  "language_info": {
   "name": "python",
   "version": "3.11.7"
  }
 },
 "nbformat": 4,
 "nbformat_minor": 2
}
