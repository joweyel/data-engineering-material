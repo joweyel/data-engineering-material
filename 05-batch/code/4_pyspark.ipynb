{
 "cells": [
  {
   "cell_type": "markdown",
   "metadata": {},
   "source": [
    "### 5.3.1 - First Look at Spark / PySpark"
   ]
  },
  {
   "cell_type": "code",
   "execution_count": 1,
   "metadata": {},
   "outputs": [],
   "source": [
    "import pyspark\n",
    "from pyspark.sql import SparkSession"
   ]
  },
  {
   "cell_type": "code",
   "execution_count": 2,
   "metadata": {},
   "outputs": [
    {
     "name": "stdout",
     "output_type": "stream",
     "text": [
      "25/03/02 16:05:24 WARN Utils: Your hostname, hp-computer resolves to a loopback address: 127.0.1.1; using 192.168.178.155 instead (on interface wlp0s20f3)\n",
      "25/03/02 16:05:24 WARN Utils: Set SPARK_LOCAL_IP if you need to bind to another address\n"
     ]
    },
    {
     "name": "stderr",
     "output_type": "stream",
     "text": [
      "Setting default log level to \"WARN\".\n",
      "To adjust logging level use sc.setLogLevel(newLevel). For SparkR, use setLogLevel(newLevel).\n"
     ]
    },
    {
     "name": "stdout",
     "output_type": "stream",
     "text": [
      "25/03/02 16:05:26 WARN NativeCodeLoader: Unable to load native-hadoop library for your platform... using builtin-java classes where applicable\n"
     ]
    }
   ],
   "source": [
    "spark = SparkSession.builder \\\n",
    "    .master(\"local[*]\") \\\n",
    "    .appName('test') \\\n",
    "    .getOrCreate()"
   ]
  },
  {
   "cell_type": "code",
   "execution_count": 3,
   "metadata": {},
   "outputs": [
    {
     "name": "stdout",
     "output_type": "stream",
     "text": [
      "--2025-03-02 16:05:30--  https://d37ci6vzurychx.cloudfront.net/trip-data/fhvhv_tripdata_2021-01.parquet\n",
      "Resolving d37ci6vzurychx.cloudfront.net (d37ci6vzurychx.cloudfront.net)... 2600:9000:20ae:de00:b:20a5:b140:21, 2600:9000:20ae:6e00:b:20a5:b140:21, 2600:9000:20ae:be00:b:20a5:b140:21, ...\n",
      "Connecting to d37ci6vzurychx.cloudfront.net (d37ci6vzurychx.cloudfront.net)|2600:9000:20ae:de00:b:20a5:b140:21|:443... connected.\n",
      "HTTP request sent, awaiting response... 416 Requested Range Not Satisfiable\n",
      "\n",
      "    The file is already fully retrieved; nothing to do.\n",
      "\n"
     ]
    }
   ],
   "source": [
    "!wget -c https://d37ci6vzurychx.cloudfront.net/trip-data/fhvhv_tripdata_2021-01.parquet -O ../data/fhvhv_tripdata_2021-01.parquet"
   ]
  },
  {
   "cell_type": "markdown",
   "metadata": {},
   "source": [
    "Load the data to spark-dataframe:"
   ]
  },
  {
   "cell_type": "code",
   "execution_count": 4,
   "metadata": {},
   "outputs": [
    {
     "name": "stderr",
     "output_type": "stream",
     "text": [
      "                                                                                \r"
     ]
    }
   ],
   "source": [
    "df = spark.read \\\n",
    "    .option(\"header\", \"true\") \\\n",
    "    .parquet('../data/fhvhv_tripdata_2021-01.parquet')"
   ]
  },
  {
   "cell_type": "code",
   "execution_count": 5,
   "metadata": {},
   "outputs": [
    {
     "name": "stderr",
     "output_type": "stream",
     "text": [
      "                                                                                \r"
     ]
    },
    {
     "name": "stdout",
     "output_type": "stream",
     "text": [
      "+-----------------+--------------------+--------------------+-------------------+-------------------+-------------------+-------------------+------------+------------+----------+---------+-------------------+-----+----+---------+--------------------+-----------+----+----------+-------------------+-----------------+------------------+----------------+--------------+\n",
      "|hvfhs_license_num|dispatching_base_num|originating_base_num|   request_datetime|  on_scene_datetime|    pickup_datetime|   dropoff_datetime|PULocationID|DOLocationID|trip_miles|trip_time|base_passenger_fare|tolls| bcf|sales_tax|congestion_surcharge|airport_fee|tips|driver_pay|shared_request_flag|shared_match_flag|access_a_ride_flag|wav_request_flag|wav_match_flag|\n",
      "+-----------------+--------------------+--------------------+-------------------+-------------------+-------------------+-------------------+------------+------------+----------+---------+-------------------+-----+----+---------+--------------------+-----------+----+----------+-------------------+-----------------+------------------+----------------+--------------+\n",
      "|           HV0003|              B02682|              B02682|2021-01-01 01:28:09|2021-01-01 01:31:42|2021-01-01 01:33:44|2021-01-01 01:49:07|         230|         166|      5.26|      923|              22.28|  0.0|0.67|     1.98|                2.75|       null| 0.0|     14.99|                  N|                N|                  |               N|             N|\n",
      "|           HV0003|              B02682|              B02682|2021-01-01 01:45:56|2021-01-01 01:55:19|2021-01-01 01:55:19|2021-01-01 02:18:21|         152|         167|      3.65|     1382|              18.36|  0.0|0.55|     1.63|                 0.0|       null| 0.0|     17.06|                  N|                N|                  |               N|             N|\n",
      "|           HV0003|              B02764|              B02764|2021-01-01 01:21:15|2021-01-01 01:22:41|2021-01-01 01:23:56|2021-01-01 01:38:05|         233|         142|      3.51|      849|              14.05|  0.0|0.48|     1.25|                2.75|       null|0.94|     12.98|                  N|                N|                  |               N|             N|\n",
      "|           HV0003|              B02764|              B02764|2021-01-01 01:39:12|2021-01-01 01:42:37|2021-01-01 01:42:51|2021-01-01 01:45:50|         142|         143|      0.74|      179|               7.91|  0.0|0.24|      0.7|                2.75|       null| 0.0|      7.41|                  N|                N|                  |               N|             N|\n",
      "|           HV0003|              B02764|              B02764|2021-01-01 01:46:11|2021-01-01 01:47:17|2021-01-01 01:48:14|2021-01-01 02:08:42|         143|          78|       9.2|     1228|              27.11|  0.0|0.81|     2.41|                2.75|       null| 0.0|     22.44|                  N|                N|                  |               N|             N|\n",
      "|           HV0005|              B02510|                null|2021-01-01 01:04:00|               null|2021-01-01 01:06:59|2021-01-01 01:43:01|          88|          42|     9.725|     2162|              28.11|  0.0|0.84|     2.49|                2.75|       null| 0.0|      28.9|                  N|                N|                 N|               N|             N|\n",
      "|           HV0005|              B02510|                null|2021-01-01 01:40:06|               null|2021-01-01 01:50:00|2021-01-01 02:04:57|          42|         151|     2.469|      897|              25.03|  0.0|0.75|     2.22|                 0.0|       null| 0.0|     15.01|                  N|                N|                 N|               N|             N|\n",
      "|           HV0003|              B02764|              B02764|2021-01-01 01:10:36|2021-01-01 01:12:28|2021-01-01 01:14:30|2021-01-01 01:50:27|          71|         226|     13.53|     2157|              29.67|  0.0|1.04|     3.08|                 0.0|       null| 0.0|      34.2|                  N|                N|                  |               N|             N|\n",
      "|           HV0003|              B02875|              B02875|2021-01-01 01:21:17|2021-01-01 01:22:25|2021-01-01 01:22:54|2021-01-01 01:30:20|         112|         255|       1.6|      446|               6.89|  0.0|0.21|     0.61|                 0.0|       null| 0.0|      6.26|                  N|                N|                  |               N|             N|\n",
      "|           HV0003|              B02875|              B02875|2021-01-01 01:36:57|2021-01-01 01:38:09|2021-01-01 01:40:12|2021-01-01 01:53:31|         255|         232|       3.2|      800|              11.51|  0.0|0.53|     1.03|                2.75|       null|2.82|     10.99|                  N|                N|                  |               N|             N|\n",
      "|           HV0003|              B02875|              B02875|2021-01-01 01:53:31|2021-01-01 01:56:21|2021-01-01 01:56:45|2021-01-01 02:17:42|         232|         198|      5.74|     1257|              17.18|  0.0|0.52|     1.52|                2.75|       null| 0.0|     17.61|                  N|                N|                  |               N|             N|\n",
      "|           HV0003|              B02835|              B02835|2021-01-01 01:22:58|2021-01-01 01:27:01|2021-01-01 01:29:04|2021-01-01 01:36:27|         113|          48|       1.8|      443|               8.18|  0.0|0.25|     0.73|                2.75|       null| 0.0|      6.12|                  N|                N|                  |               N|             N|\n",
      "|           HV0003|              B02835|              B02835|2021-01-01 01:46:44|2021-01-01 01:47:49|2021-01-01 01:48:56|2021-01-01 01:59:12|         239|          75|       2.9|      616|               13.1|  0.0|0.45|     1.17|                2.75|       null|0.94|      8.77|                  N|                N|                  |               N|             N|\n",
      "|           HV0004|              B02800|                null|2021-01-01 01:12:50|               null|2021-01-01 01:15:24|2021-01-01 01:38:31|         181|         237|      9.66|     1387|              32.95|  0.0| 0.0|     2.34|                2.75|       null| 0.0|      21.1|                  N|                N|                 N|               N|             N|\n",
      "|           HV0004|              B02800|                null|2021-01-01 01:35:32|               null|2021-01-01 01:45:00|2021-01-01 02:06:45|         236|          68|      4.38|     1305|              22.91|  0.0| 0.0|     1.63|                2.75|       null|3.43|     15.82|                  N|                N|                 N|               N|             N|\n",
      "|           HV0003|              B02682|              B02682|2021-01-01 01:10:22|2021-01-01 01:11:03|2021-01-01 01:11:53|2021-01-01 01:18:06|         256|         148|      2.03|      373|               7.84|  0.0|0.42|      0.7|                2.75|       null|2.82|      6.93|                  N|                N|                  |               N|             N|\n",
      "|           HV0003|              B02682|              B02682|2021-01-01 01:25:00|2021-01-01 01:26:31|2021-01-01 01:28:31|2021-01-01 01:41:40|          79|          80|      3.08|      789|               13.2|  0.0| 0.4|     1.17|                2.75|       null| 0.0|     11.54|                  N|                N|                  |               N|             N|\n",
      "|           HV0003|              B02682|              B02682|2021-01-01 01:44:56|2021-01-01 01:49:55|2021-01-01 01:50:49|2021-01-01 01:55:59|          17|         217|      1.17|      310|               7.91|  0.0|0.24|      0.7|                 0.0|       null| 0.0|      6.94|                  N|                N|                  |               N|             N|\n",
      "|           HV0005|              B02510|                null|2021-01-01 01:05:04|               null|2021-01-01 01:08:40|2021-01-01 01:39:39|          62|          29|    10.852|     1859|              31.18|  0.0|0.94|     2.77|                 0.0|       null| 0.0|     27.61|                  N|                N|                 N|               N|             N|\n",
      "|           HV0003|              B02836|              B02836|2021-01-01 01:40:44|2021-01-01 01:53:34|2021-01-01 01:53:48|2021-01-01 02:11:40|          22|          22|      3.52|     1072|              28.67|  0.0|0.86|     2.54|                 0.0|       null| 0.0|     17.64|                  N|                N|                  |               N|             N|\n",
      "+-----------------+--------------------+--------------------+-------------------+-------------------+-------------------+-------------------+------------+------------+----------+---------+-------------------+-----+----+---------+--------------------+-----------+----+----------+-------------------+-----------------+------------------+----------------+--------------+\n",
      "only showing top 20 rows\n",
      "\n"
     ]
    }
   ],
   "source": [
    "df.show()"
   ]
  },
  {
   "cell_type": "code",
   "execution_count": 6,
   "metadata": {},
   "outputs": [
    {
     "name": "stderr",
     "output_type": "stream",
     "text": [
      "                                                                                \r"
     ]
    },
    {
     "data": {
      "text/plain": [
       "[Row(hvfhs_license_num='HV0003', dispatching_base_num='B02682', originating_base_num='B02682', request_datetime=datetime.datetime(2021, 1, 1, 1, 28, 9), on_scene_datetime=datetime.datetime(2021, 1, 1, 1, 31, 42), pickup_datetime=datetime.datetime(2021, 1, 1, 1, 33, 44), dropoff_datetime=datetime.datetime(2021, 1, 1, 1, 49, 7), PULocationID=230, DOLocationID=166, trip_miles=5.26, trip_time=923, base_passenger_fare=22.28, tolls=0.0, bcf=0.67, sales_tax=1.98, congestion_surcharge=2.75, airport_fee=None, tips=0.0, driver_pay=14.99, shared_request_flag='N', shared_match_flag='N', access_a_ride_flag=' ', wav_request_flag='N', wav_match_flag='N'),\n",
       " Row(hvfhs_license_num='HV0003', dispatching_base_num='B02682', originating_base_num='B02682', request_datetime=datetime.datetime(2021, 1, 1, 1, 45, 56), on_scene_datetime=datetime.datetime(2021, 1, 1, 1, 55, 19), pickup_datetime=datetime.datetime(2021, 1, 1, 1, 55, 19), dropoff_datetime=datetime.datetime(2021, 1, 1, 2, 18, 21), PULocationID=152, DOLocationID=167, trip_miles=3.65, trip_time=1382, base_passenger_fare=18.36, tolls=0.0, bcf=0.55, sales_tax=1.63, congestion_surcharge=0.0, airport_fee=None, tips=0.0, driver_pay=17.06, shared_request_flag='N', shared_match_flag='N', access_a_ride_flag=' ', wav_request_flag='N', wav_match_flag='N'),\n",
       " Row(hvfhs_license_num='HV0003', dispatching_base_num='B02764', originating_base_num='B02764', request_datetime=datetime.datetime(2021, 1, 1, 1, 21, 15), on_scene_datetime=datetime.datetime(2021, 1, 1, 1, 22, 41), pickup_datetime=datetime.datetime(2021, 1, 1, 1, 23, 56), dropoff_datetime=datetime.datetime(2021, 1, 1, 1, 38, 5), PULocationID=233, DOLocationID=142, trip_miles=3.51, trip_time=849, base_passenger_fare=14.05, tolls=0.0, bcf=0.48, sales_tax=1.25, congestion_surcharge=2.75, airport_fee=None, tips=0.94, driver_pay=12.98, shared_request_flag='N', shared_match_flag='N', access_a_ride_flag=' ', wav_request_flag='N', wav_match_flag='N'),\n",
       " Row(hvfhs_license_num='HV0003', dispatching_base_num='B02764', originating_base_num='B02764', request_datetime=datetime.datetime(2021, 1, 1, 1, 39, 12), on_scene_datetime=datetime.datetime(2021, 1, 1, 1, 42, 37), pickup_datetime=datetime.datetime(2021, 1, 1, 1, 42, 51), dropoff_datetime=datetime.datetime(2021, 1, 1, 1, 45, 50), PULocationID=142, DOLocationID=143, trip_miles=0.74, trip_time=179, base_passenger_fare=7.91, tolls=0.0, bcf=0.24, sales_tax=0.7, congestion_surcharge=2.75, airport_fee=None, tips=0.0, driver_pay=7.41, shared_request_flag='N', shared_match_flag='N', access_a_ride_flag=' ', wav_request_flag='N', wav_match_flag='N'),\n",
       " Row(hvfhs_license_num='HV0003', dispatching_base_num='B02764', originating_base_num='B02764', request_datetime=datetime.datetime(2021, 1, 1, 1, 46, 11), on_scene_datetime=datetime.datetime(2021, 1, 1, 1, 47, 17), pickup_datetime=datetime.datetime(2021, 1, 1, 1, 48, 14), dropoff_datetime=datetime.datetime(2021, 1, 1, 2, 8, 42), PULocationID=143, DOLocationID=78, trip_miles=9.2, trip_time=1228, base_passenger_fare=27.11, tolls=0.0, bcf=0.81, sales_tax=2.41, congestion_surcharge=2.75, airport_fee=None, tips=0.0, driver_pay=22.44, shared_request_flag='N', shared_match_flag='N', access_a_ride_flag=' ', wav_request_flag='N', wav_match_flag='N')]"
      ]
     },
     "execution_count": 6,
     "metadata": {},
     "output_type": "execute_result"
    }
   ],
   "source": [
    "df.head(5)"
   ]
  },
  {
   "cell_type": "markdown",
   "metadata": {},
   "source": [
    "Unlike `Pandas`, `Spark` does not do automatic type-inference and everything is represented as string. This can especially been seen when looking at the schema of the dataframe:"
   ]
  },
  {
   "cell_type": "code",
   "execution_count": 7,
   "metadata": {},
   "outputs": [
    {
     "name": "stdout",
     "output_type": "stream",
     "text": [
      "StructField('hvfhs_license_num', StringType(), True)\n",
      "StructField('dispatching_base_num', StringType(), True)\n",
      "StructField('originating_base_num', StringType(), True)\n",
      "StructField('request_datetime', TimestampType(), True)\n",
      "StructField('on_scene_datetime', TimestampType(), True)\n",
      "StructField('pickup_datetime', TimestampType(), True)\n",
      "StructField('dropoff_datetime', TimestampType(), True)\n",
      "StructField('PULocationID', LongType(), True)\n",
      "StructField('DOLocationID', LongType(), True)\n",
      "StructField('trip_miles', DoubleType(), True)\n",
      "StructField('trip_time', LongType(), True)\n",
      "StructField('base_passenger_fare', DoubleType(), True)\n",
      "StructField('tolls', DoubleType(), True)\n",
      "StructField('bcf', DoubleType(), True)\n",
      "StructField('sales_tax', DoubleType(), True)\n",
      "StructField('congestion_surcharge', DoubleType(), True)\n",
      "StructField('airport_fee', DoubleType(), True)\n",
      "StructField('tips', DoubleType(), True)\n",
      "StructField('driver_pay', DoubleType(), True)\n",
      "StructField('shared_request_flag', StringType(), True)\n",
      "StructField('shared_match_flag', StringType(), True)\n",
      "StructField('access_a_ride_flag', StringType(), True)\n",
      "StructField('wav_request_flag', StringType(), True)\n",
      "StructField('wav_match_flag', StringType(), True)\n"
     ]
    }
   ],
   "source": [
    "for col in df.schema:\n",
    "    print(col)"
   ]
  },
  {
   "cell_type": "code",
   "execution_count": 8,
   "metadata": {},
   "outputs": [],
   "source": [
    "import pandas as pd"
   ]
  },
  {
   "cell_type": "code",
   "execution_count": 9,
   "metadata": {},
   "outputs": [],
   "source": [
    "df_pandas = pd.read_parquet(\"../data/fhvhv_tripdata_2021-01.parquet\", engine=\"pyarrow\")\n",
    "# df_pandas.dtypes"
   ]
  },
  {
   "cell_type": "code",
   "execution_count": 10,
   "metadata": {},
   "outputs": [],
   "source": [
    "df_pandas.head(1001).to_parquet(\"head.parquet\")\n",
    "df_head = pd.read_parquet(\"head.parquet\")"
   ]
  },
  {
   "cell_type": "code",
   "execution_count": 11,
   "metadata": {},
   "outputs": [
    {
     "data": {
      "text/plain": [
       "hvfhs_license_num               object\n",
       "dispatching_base_num            object\n",
       "originating_base_num            object\n",
       "request_datetime        datetime64[us]\n",
       "on_scene_datetime       datetime64[us]\n",
       "pickup_datetime         datetime64[us]\n",
       "dropoff_datetime        datetime64[us]\n",
       "PULocationID                     int64\n",
       "DOLocationID                     int64\n",
       "trip_miles                     float64\n",
       "trip_time                        int64\n",
       "base_passenger_fare            float64\n",
       "tolls                          float64\n",
       "bcf                            float64\n",
       "sales_tax                      float64\n",
       "congestion_surcharge           float64\n",
       "airport_fee                    float64\n",
       "tips                           float64\n",
       "driver_pay                     float64\n",
       "shared_request_flag             object\n",
       "shared_match_flag               object\n",
       "access_a_ride_flag              object\n",
       "wav_request_flag                object\n",
       "wav_match_flag                  object\n",
       "dtype: object"
      ]
     },
     "execution_count": 11,
     "metadata": {},
     "output_type": "execute_result"
    }
   ],
   "source": [
    "df_head.dtypes"
   ]
  },
  {
   "cell_type": "code",
   "execution_count": 12,
   "metadata": {},
   "outputs": [],
   "source": [
    "from pyspark.sql import types"
   ]
  },
  {
   "cell_type": "code",
   "execution_count": 13,
   "metadata": {},
   "outputs": [],
   "source": [
    "schema = types.StructType([\n",
    "    types.StructField('hvfhs_license_num', types.StringType(), True),\n",
    "    types.StructField('dispatching_base_num', types.StringType(), True), \n",
    "    types.StructField('originating_base_num', types.StringType(), True),  \n",
    "    types.StructField('request_datetime', types.TimestampType(), True), \n",
    "    types.StructField('on_scene_datetime', types.TimestampType(), True), \n",
    "    types.StructField('pickup_datetime', types.TimestampType(), True), \n",
    "    types.StructField('dropoff_datetime', types.TimestampType(), True), \n",
    "    types.StructField('PULocationID', types.LongType(), True),  # Apparently problem with INT64\n",
    "    types.StructField('DOLocationID', types.LongType(), True),  # Apparently problem with INT64\n",
    "    types.StructField('trip_miles', types.DoubleType(), True), \n",
    "    types.StructField('trip_time', types.LongType(), True), \n",
    "    types.StructField('base_passenger_fare', types.DoubleType(), True), \n",
    "    types.StructField('tolls', types.DoubleType(), True), \n",
    "    types.StructField('bcf', types.DoubleType(), True), \n",
    "    types.StructField('sales_tax', types.DoubleType(), True), \n",
    "    types.StructField('congestion_surcharge', types.DoubleType(), True), \n",
    "    types.StructField('airport_fee', types.DoubleType(), True), \n",
    "    types.StructField('tips', types.DoubleType(), True), \n",
    "    types.StructField('driver_pay', types.DoubleType(), True), \n",
    "    types.StructField('shared_request_flag', types.StringType(), True), \n",
    "    types.StructField('shared_match_flag', types.StringType(), True), \n",
    "    types.StructField('access_a_ride_flag', types.StringType(), True), \n",
    "    types.StructField('wav_request_flag', types.StringType(), True), \n",
    "    types.StructField('wav_match_flag', types.StringType(), True)\n",
    "])"
   ]
  },
  {
   "cell_type": "code",
   "execution_count": 14,
   "metadata": {},
   "outputs": [],
   "source": [
    "df = spark.read \\\n",
    "    .option(\"header\", \"true\") \\\n",
    "    .schema(schema) \\\n",
    "    .parquet(\"../data/fhvhv_tripdata_2021-01.parquet\")"
   ]
  },
  {
   "cell_type": "code",
   "execution_count": 15,
   "metadata": {},
   "outputs": [
    {
     "name": "stderr",
     "output_type": "stream",
     "text": [
      "                                                                                \r"
     ]
    },
    {
     "data": {
      "text/plain": [
       "[Row(hvfhs_license_num='HV0003', dispatching_base_num='B02682', originating_base_num='B02682', request_datetime=datetime.datetime(2021, 1, 1, 1, 28, 9), on_scene_datetime=datetime.datetime(2021, 1, 1, 1, 31, 42), pickup_datetime=datetime.datetime(2021, 1, 1, 1, 33, 44), dropoff_datetime=datetime.datetime(2021, 1, 1, 1, 49, 7), PULocationID=230, DOLocationID=166, trip_miles=5.26, trip_time=923, base_passenger_fare=22.28, tolls=0.0, bcf=0.67, sales_tax=1.98, congestion_surcharge=2.75, airport_fee=None, tips=0.0, driver_pay=14.99, shared_request_flag='N', shared_match_flag='N', access_a_ride_flag=' ', wav_request_flag='N', wav_match_flag='N'),\n",
       " Row(hvfhs_license_num='HV0003', dispatching_base_num='B02682', originating_base_num='B02682', request_datetime=datetime.datetime(2021, 1, 1, 1, 45, 56), on_scene_datetime=datetime.datetime(2021, 1, 1, 1, 55, 19), pickup_datetime=datetime.datetime(2021, 1, 1, 1, 55, 19), dropoff_datetime=datetime.datetime(2021, 1, 1, 2, 18, 21), PULocationID=152, DOLocationID=167, trip_miles=3.65, trip_time=1382, base_passenger_fare=18.36, tolls=0.0, bcf=0.55, sales_tax=1.63, congestion_surcharge=0.0, airport_fee=None, tips=0.0, driver_pay=17.06, shared_request_flag='N', shared_match_flag='N', access_a_ride_flag=' ', wav_request_flag='N', wav_match_flag='N'),\n",
       " Row(hvfhs_license_num='HV0003', dispatching_base_num='B02764', originating_base_num='B02764', request_datetime=datetime.datetime(2021, 1, 1, 1, 21, 15), on_scene_datetime=datetime.datetime(2021, 1, 1, 1, 22, 41), pickup_datetime=datetime.datetime(2021, 1, 1, 1, 23, 56), dropoff_datetime=datetime.datetime(2021, 1, 1, 1, 38, 5), PULocationID=233, DOLocationID=142, trip_miles=3.51, trip_time=849, base_passenger_fare=14.05, tolls=0.0, bcf=0.48, sales_tax=1.25, congestion_surcharge=2.75, airport_fee=None, tips=0.94, driver_pay=12.98, shared_request_flag='N', shared_match_flag='N', access_a_ride_flag=' ', wav_request_flag='N', wav_match_flag='N'),\n",
       " Row(hvfhs_license_num='HV0003', dispatching_base_num='B02764', originating_base_num='B02764', request_datetime=datetime.datetime(2021, 1, 1, 1, 39, 12), on_scene_datetime=datetime.datetime(2021, 1, 1, 1, 42, 37), pickup_datetime=datetime.datetime(2021, 1, 1, 1, 42, 51), dropoff_datetime=datetime.datetime(2021, 1, 1, 1, 45, 50), PULocationID=142, DOLocationID=143, trip_miles=0.74, trip_time=179, base_passenger_fare=7.91, tolls=0.0, bcf=0.24, sales_tax=0.7, congestion_surcharge=2.75, airport_fee=None, tips=0.0, driver_pay=7.41, shared_request_flag='N', shared_match_flag='N', access_a_ride_flag=' ', wav_request_flag='N', wav_match_flag='N'),\n",
       " Row(hvfhs_license_num='HV0003', dispatching_base_num='B02764', originating_base_num='B02764', request_datetime=datetime.datetime(2021, 1, 1, 1, 46, 11), on_scene_datetime=datetime.datetime(2021, 1, 1, 1, 47, 17), pickup_datetime=datetime.datetime(2021, 1, 1, 1, 48, 14), dropoff_datetime=datetime.datetime(2021, 1, 1, 2, 8, 42), PULocationID=143, DOLocationID=78, trip_miles=9.2, trip_time=1228, base_passenger_fare=27.11, tolls=0.0, bcf=0.81, sales_tax=2.41, congestion_surcharge=2.75, airport_fee=None, tips=0.0, driver_pay=22.44, shared_request_flag='N', shared_match_flag='N', access_a_ride_flag=' ', wav_request_flag='N', wav_match_flag='N'),\n",
       " Row(hvfhs_license_num='HV0005', dispatching_base_num='B02510', originating_base_num=None, request_datetime=datetime.datetime(2021, 1, 1, 1, 4), on_scene_datetime=None, pickup_datetime=datetime.datetime(2021, 1, 1, 1, 6, 59), dropoff_datetime=datetime.datetime(2021, 1, 1, 1, 43, 1), PULocationID=88, DOLocationID=42, trip_miles=9.725, trip_time=2162, base_passenger_fare=28.11, tolls=0.0, bcf=0.84, sales_tax=2.49, congestion_surcharge=2.75, airport_fee=None, tips=0.0, driver_pay=28.9, shared_request_flag='N', shared_match_flag='N', access_a_ride_flag='N', wav_request_flag='N', wav_match_flag='N'),\n",
       " Row(hvfhs_license_num='HV0005', dispatching_base_num='B02510', originating_base_num=None, request_datetime=datetime.datetime(2021, 1, 1, 1, 40, 6), on_scene_datetime=None, pickup_datetime=datetime.datetime(2021, 1, 1, 1, 50), dropoff_datetime=datetime.datetime(2021, 1, 1, 2, 4, 57), PULocationID=42, DOLocationID=151, trip_miles=2.469, trip_time=897, base_passenger_fare=25.03, tolls=0.0, bcf=0.75, sales_tax=2.22, congestion_surcharge=0.0, airport_fee=None, tips=0.0, driver_pay=15.01, shared_request_flag='N', shared_match_flag='N', access_a_ride_flag='N', wav_request_flag='N', wav_match_flag='N'),\n",
       " Row(hvfhs_license_num='HV0003', dispatching_base_num='B02764', originating_base_num='B02764', request_datetime=datetime.datetime(2021, 1, 1, 1, 10, 36), on_scene_datetime=datetime.datetime(2021, 1, 1, 1, 12, 28), pickup_datetime=datetime.datetime(2021, 1, 1, 1, 14, 30), dropoff_datetime=datetime.datetime(2021, 1, 1, 1, 50, 27), PULocationID=71, DOLocationID=226, trip_miles=13.53, trip_time=2157, base_passenger_fare=29.67, tolls=0.0, bcf=1.04, sales_tax=3.08, congestion_surcharge=0.0, airport_fee=None, tips=0.0, driver_pay=34.2, shared_request_flag='N', shared_match_flag='N', access_a_ride_flag=' ', wav_request_flag='N', wav_match_flag='N'),\n",
       " Row(hvfhs_license_num='HV0003', dispatching_base_num='B02875', originating_base_num='B02875', request_datetime=datetime.datetime(2021, 1, 1, 1, 21, 17), on_scene_datetime=datetime.datetime(2021, 1, 1, 1, 22, 25), pickup_datetime=datetime.datetime(2021, 1, 1, 1, 22, 54), dropoff_datetime=datetime.datetime(2021, 1, 1, 1, 30, 20), PULocationID=112, DOLocationID=255, trip_miles=1.6, trip_time=446, base_passenger_fare=6.89, tolls=0.0, bcf=0.21, sales_tax=0.61, congestion_surcharge=0.0, airport_fee=None, tips=0.0, driver_pay=6.26, shared_request_flag='N', shared_match_flag='N', access_a_ride_flag=' ', wav_request_flag='N', wav_match_flag='N'),\n",
       " Row(hvfhs_license_num='HV0003', dispatching_base_num='B02875', originating_base_num='B02875', request_datetime=datetime.datetime(2021, 1, 1, 1, 36, 57), on_scene_datetime=datetime.datetime(2021, 1, 1, 1, 38, 9), pickup_datetime=datetime.datetime(2021, 1, 1, 1, 40, 12), dropoff_datetime=datetime.datetime(2021, 1, 1, 1, 53, 31), PULocationID=255, DOLocationID=232, trip_miles=3.2, trip_time=800, base_passenger_fare=11.51, tolls=0.0, bcf=0.53, sales_tax=1.03, congestion_surcharge=2.75, airport_fee=None, tips=2.82, driver_pay=10.99, shared_request_flag='N', shared_match_flag='N', access_a_ride_flag=' ', wav_request_flag='N', wav_match_flag='N')]"
      ]
     },
     "execution_count": 15,
     "metadata": {},
     "output_type": "execute_result"
    }
   ],
   "source": [
    "df.head(10)"
   ]
  },
  {
   "cell_type": "markdown",
   "metadata": {},
   "source": [
    "The columns of the spark dataframe are now of adequate type."
   ]
  },
  {
   "cell_type": "markdown",
   "metadata": {},
   "source": [
    "**Partitioning of Dataframes:**\n",
    "\n",
    "- First: partition dataframe to utilize spark better\n",
    "- Second: saving the partitions to parquet files"
   ]
  },
  {
   "cell_type": "code",
   "execution_count": 16,
   "metadata": {},
   "outputs": [],
   "source": [
    "df = df.repartition(24)"
   ]
  },
  {
   "cell_type": "code",
   "execution_count": 18,
   "metadata": {},
   "outputs": [
    {
     "name": "stderr",
     "output_type": "stream",
     "text": [
      "[Stage 9:>                                                         (0 + 8) / 24]\r"
     ]
    },
    {
     "name": "stdout",
     "output_type": "stream",
     "text": [
      "25/03/02 16:09:57 WARN MemoryManager: Total allocation exceeds 95.00% (1,020,054,720 bytes) of heap memory\n",
      "Scaling row group sizes to 95.00% for 8 writers\n"
     ]
    },
    {
     "name": "stderr",
     "output_type": "stream",
     "text": [
      "[Stage 9:==>                                                       (1 + 8) / 24]\r"
     ]
    },
    {
     "name": "stdout",
     "output_type": "stream",
     "text": [
      "25/03/02 16:10:17 WARN MemoryManager: Total allocation exceeds 95.00% (1,020,054,720 bytes) of heap memory\n",
      "Scaling row group sizes to 95.00% for 8 writers\n"
     ]
    },
    {
     "name": "stderr",
     "output_type": "stream",
     "text": [
      "[Stage 9:=======>                                                  (3 + 8) / 24]\r"
     ]
    },
    {
     "name": "stdout",
     "output_type": "stream",
     "text": [
      "25/03/02 16:10:18 WARN MemoryManager: Total allocation exceeds 95.00% (1,020,054,720 bytes) of heap memory\n",
      "Scaling row group sizes to 95.00% for 8 writers\n"
     ]
    },
    {
     "name": "stderr",
     "output_type": "stream",
     "text": [
      "[Stage 9:==============>                                           (6 + 8) / 24]\r"
     ]
    },
    {
     "name": "stdout",
     "output_type": "stream",
     "text": [
      "25/03/02 16:10:18 WARN MemoryManager: Total allocation exceeds 95.00% (1,020,054,720 bytes) of heap memory\n",
      "Scaling row group sizes to 95.00% for 8 writers\n"
     ]
    },
    {
     "name": "stderr",
     "output_type": "stream",
     "text": [
      "[Stage 9:================>                                         (7 + 8) / 24]\r"
     ]
    },
    {
     "name": "stdout",
     "output_type": "stream",
     "text": [
      "25/03/02 16:10:19 WARN MemoryManager: Total allocation exceeds 95.00% (1,020,054,720 bytes) of heap memory\n",
      "Scaling row group sizes to 95.00% for 8 writers\n"
     ]
    },
    {
     "name": "stderr",
     "output_type": "stream",
     "text": [
      "[Stage 9:===================>                                      (8 + 8) / 24]\r"
     ]
    },
    {
     "name": "stdout",
     "output_type": "stream",
     "text": [
      "25/03/02 16:10:21 WARN MemoryManager: Total allocation exceeds 95.00% (1,020,054,720 bytes) of heap memory\n",
      "Scaling row group sizes to 95.00% for 8 writers\n"
     ]
    },
    {
     "name": "stderr",
     "output_type": "stream",
     "text": [
      "[Stage 9:=====================>                                    (9 + 8) / 24]\r"
     ]
    },
    {
     "name": "stdout",
     "output_type": "stream",
     "text": [
      "25/03/02 16:10:33 WARN MemoryManager: Total allocation exceeds 95.00% (1,020,054,720 bytes) of heap memory\n",
      "Scaling row group sizes to 95.00% for 8 writers\n"
     ]
    },
    {
     "name": "stderr",
     "output_type": "stream",
     "text": [
      "[Stage 9:==========================>                              (11 + 8) / 24]\r"
     ]
    },
    {
     "name": "stdout",
     "output_type": "stream",
     "text": [
      "25/03/02 16:10:34 WARN MemoryManager: Total allocation exceeds 95.00% (1,020,054,720 bytes) of heap memory\n",
      "Scaling row group sizes to 95.00% for 8 writers\n"
     ]
    },
    {
     "name": "stderr",
     "output_type": "stream",
     "text": [
      "[Stage 9:============================>                            (12 + 8) / 24]\r"
     ]
    },
    {
     "name": "stdout",
     "output_type": "stream",
     "text": [
      "25/03/02 16:10:35 WARN MemoryManager: Total allocation exceeds 95.00% (1,020,054,720 bytes) of heap memory\n",
      "Scaling row group sizes to 95.00% for 8 writers\n",
      "25/03/02 16:10:35 WARN MemoryManager: Total allocation exceeds 95.00% (1,020,054,720 bytes) of heap memory\n",
      "Scaling row group sizes to 95.00% for 8 writers\n"
     ]
    },
    {
     "name": "stderr",
     "output_type": "stream",
     "text": [
      "[Stage 9:===================================>                     (15 + 8) / 24]\r"
     ]
    },
    {
     "name": "stdout",
     "output_type": "stream",
     "text": [
      "25/03/02 16:10:35 WARN MemoryManager: Total allocation exceeds 95.00% (1,020,054,720 bytes) of heap memory\n",
      "Scaling row group sizes to 95.00% for 8 writers\n"
     ]
    },
    {
     "name": "stderr",
     "output_type": "stream",
     "text": [
      "[Stage 9:======================================>                  (16 + 8) / 24]\r"
     ]
    },
    {
     "name": "stdout",
     "output_type": "stream",
     "text": [
      "25/03/02 16:10:36 WARN MemoryManager: Total allocation exceeds 95.00% (1,020,054,720 bytes) of heap memory\n",
      "Scaling row group sizes to 95.00% for 8 writers\n"
     ]
    },
    {
     "name": "stderr",
     "output_type": "stream",
     "text": [
      "                                                                                \r"
     ]
    }
   ],
   "source": [
    "df.write.parquet(\"fhvhv/2021/01/\")"
   ]
  },
  {
   "cell_type": "markdown",
   "metadata": {},
   "source": [
    "For replacing previous results use:\n",
    "```python\n",
    "df.write.parquet(\"fhvhv/2021/01/\", mode=\"overwride\")\n",
    "```"
   ]
  },
  {
   "cell_type": "markdown",
   "metadata": {},
   "source": [
    "### 5.3.2 - Spark DataFrames"
   ]
  },
  {
   "cell_type": "code",
   "execution_count": 19,
   "metadata": {},
   "outputs": [],
   "source": [
    "df = spark.read.parquet(\"fhvhv/2021/01/\")"
   ]
  },
  {
   "cell_type": "code",
   "execution_count": 20,
   "metadata": {},
   "outputs": [
    {
     "name": "stdout",
     "output_type": "stream",
     "text": [
      "root\n",
      " |-- hvfhs_license_num: string (nullable = true)\n",
      " |-- dispatching_base_num: string (nullable = true)\n",
      " |-- originating_base_num: string (nullable = true)\n",
      " |-- request_datetime: timestamp (nullable = true)\n",
      " |-- on_scene_datetime: timestamp (nullable = true)\n",
      " |-- pickup_datetime: timestamp (nullable = true)\n",
      " |-- dropoff_datetime: timestamp (nullable = true)\n",
      " |-- PULocationID: long (nullable = true)\n",
      " |-- DOLocationID: long (nullable = true)\n",
      " |-- trip_miles: double (nullable = true)\n",
      " |-- trip_time: long (nullable = true)\n",
      " |-- base_passenger_fare: double (nullable = true)\n",
      " |-- tolls: double (nullable = true)\n",
      " |-- bcf: double (nullable = true)\n",
      " |-- sales_tax: double (nullable = true)\n",
      " |-- congestion_surcharge: double (nullable = true)\n",
      " |-- airport_fee: double (nullable = true)\n",
      " |-- tips: double (nullable = true)\n",
      " |-- driver_pay: double (nullable = true)\n",
      " |-- shared_request_flag: string (nullable = true)\n",
      " |-- shared_match_flag: string (nullable = true)\n",
      " |-- access_a_ride_flag: string (nullable = true)\n",
      " |-- wav_request_flag: string (nullable = true)\n",
      " |-- wav_match_flag: string (nullable = true)\n",
      "\n"
     ]
    }
   ],
   "source": [
    "df.printSchema()"
   ]
  },
  {
   "cell_type": "markdown",
   "metadata": {},
   "source": [
    "**Access operations on spark dataframes**:"
   ]
  },
  {
   "cell_type": "markdown",
   "metadata": {},
   "source": [
    "Some operations are executed lazy **`(Transformation)`**! This means that you can define an operation on a dataframe, but it is not executed until it is explicitely called with `.show()`. Other operations are executed immediately and return a result right away **`(Actions)`**. The latter category is mostly used when data is shown or taken from a dataframe."
   ]
  },
  {
   "cell_type": "code",
   "execution_count": 21,
   "metadata": {},
   "outputs": [
    {
     "name": "stdout",
     "output_type": "stream",
     "text": [
      "+-------------------+-------------------+------------+------------+\n",
      "|    pickup_datetime|   dropoff_datetime|PULocationID|DOLocationID|\n",
      "+-------------------+-------------------+------------+------------+\n",
      "|2021-01-11 19:40:22|2021-01-11 20:15:49|         262|         231|\n",
      "|2021-01-05 16:13:22|2021-01-05 16:27:50|          61|         181|\n",
      "|2021-01-31 19:42:09|2021-01-31 19:59:52|         232|           4|\n",
      "|2021-01-27 23:24:36|2021-01-27 23:26:43|          68|          68|\n",
      "|2021-01-30 09:35:46|2021-01-30 09:39:42|         256|         255|\n",
      "|2021-01-16 03:25:35|2021-01-16 03:34:21|          89|          91|\n",
      "|2021-01-11 12:58:23|2021-01-11 13:14:19|          97|          61|\n",
      "|2021-01-03 08:44:58|2021-01-03 09:04:45|          26|         178|\n",
      "|2021-01-14 19:52:00|2021-01-14 20:19:00|         181|         198|\n",
      "|2021-01-08 21:35:35|2021-01-08 22:06:33|          76|          91|\n",
      "|2021-01-15 14:49:48|2021-01-15 15:35:23|         246|          16|\n",
      "|2021-01-27 11:37:56|2021-01-27 11:53:35|         135|          73|\n",
      "|2021-01-11 18:29:44|2021-01-11 18:42:49|          68|         211|\n",
      "|2021-01-24 22:32:15|2021-01-24 22:52:42|         249|         236|\n",
      "|2021-01-26 19:03:39|2021-01-26 19:10:53|          79|           4|\n",
      "|2021-01-07 09:05:32|2021-01-07 09:30:47|          22|          25|\n",
      "|2021-01-12 18:16:00|2021-01-12 18:25:56|          69|         119|\n",
      "|2021-01-16 22:00:39|2021-01-16 22:18:15|         239|         239|\n",
      "|2021-01-15 00:35:14|2021-01-15 00:45:30|          61|          62|\n",
      "|2021-01-18 00:23:11|2021-01-18 00:34:42|         241|          20|\n",
      "+-------------------+-------------------+------------+------------+\n",
      "only showing top 20 rows\n",
      "\n"
     ]
    }
   ],
   "source": [
    "# Lazy execution (select + filter dont execute the operations yet)\n",
    "df.select(\"pickup_datetime\", \"dropoff_datetime\", \"PULocationID\", \"DOLocationID\") \\\n",
    "  .filter(df.hvfhs_license_num == \"HV0003\") \\\n",
    "  .show()"
   ]
  },
  {
   "cell_type": "code",
   "execution_count": 22,
   "metadata": {},
   "outputs": [
    {
     "data": {
      "text/plain": [
       "[Row(pickup_datetime=datetime.datetime(2021, 1, 11, 19, 40, 22), dropoff_datetime=datetime.datetime(2021, 1, 11, 20, 15, 49), PULocationID=262, DOLocationID=231),\n",
       " Row(pickup_datetime=datetime.datetime(2021, 1, 5, 16, 13, 22), dropoff_datetime=datetime.datetime(2021, 1, 5, 16, 27, 50), PULocationID=61, DOLocationID=181),\n",
       " Row(pickup_datetime=datetime.datetime(2021, 1, 31, 19, 42, 9), dropoff_datetime=datetime.datetime(2021, 1, 31, 19, 59, 52), PULocationID=232, DOLocationID=4),\n",
       " Row(pickup_datetime=datetime.datetime(2021, 1, 27, 23, 24, 36), dropoff_datetime=datetime.datetime(2021, 1, 27, 23, 26, 43), PULocationID=68, DOLocationID=68),\n",
       " Row(pickup_datetime=datetime.datetime(2021, 1, 30, 9, 35, 46), dropoff_datetime=datetime.datetime(2021, 1, 30, 9, 39, 42), PULocationID=256, DOLocationID=255)]"
      ]
     },
     "execution_count": 22,
     "metadata": {},
     "output_type": "execute_result"
    }
   ],
   "source": [
    "# eager execution (head is df-operation that requires concrete values immediately)\n",
    "df.select(\"pickup_datetime\", \"dropoff_datetime\", \"PULocationID\", \"DOLocationID\") \\\n",
    "  .filter(df.hvfhs_license_num == \"HV0003\") \\\n",
    "  .head(5)"
   ]
  },
  {
   "cell_type": "markdown",
   "metadata": {},
   "source": [
    "SQL-equivalent for the operations:\n",
    "```sql\n",
    "SELECT \n",
    "    pickup_datetime, \n",
    "    dropoff_datetime, \n",
    "    PULocationID, \n",
    "    DOLocationID\n",
    "FROM \n",
    "    df\n",
    "WHERE \n",
    "    hvfhs_license_num = 'HV0003';\n",
    "``` "
   ]
  },
  {
   "cell_type": "markdown",
   "metadata": {},
   "source": [
    "Using SQL-operations on Spark-Dataframes:"
   ]
  },
  {
   "cell_type": "code",
   "execution_count": 23,
   "metadata": {},
   "outputs": [],
   "source": [
    "from pyspark.sql import functions as F"
   ]
  },
  {
   "cell_type": "code",
   "execution_count": 24,
   "metadata": {},
   "outputs": [
    {
     "name": "stdout",
     "output_type": "stream",
     "text": [
      "+-----------------+--------------------+--------------------+-------------------+-------------------+-------------------+-------------------+------------+------------+----------+---------+-------------------+-----+----+---------+--------------------+-----------+----+----------+-------------------+-----------------+------------------+----------------+--------------+\n",
      "|hvfhs_license_num|dispatching_base_num|originating_base_num|   request_datetime|  on_scene_datetime|    pickup_datetime|   dropoff_datetime|PULocationID|DOLocationID|trip_miles|trip_time|base_passenger_fare|tolls| bcf|sales_tax|congestion_surcharge|airport_fee|tips|driver_pay|shared_request_flag|shared_match_flag|access_a_ride_flag|wav_request_flag|wav_match_flag|\n",
      "+-----------------+--------------------+--------------------+-------------------+-------------------+-------------------+-------------------+------------+------------+----------+---------+-------------------+-----+----+---------+--------------------+-----------+----+----------+-------------------+-----------------+------------------+----------------+--------------+\n",
      "|           HV0003|              B02764|              B02764|2021-01-11 19:38:35|2021-01-11 19:39:39|2021-01-11 19:40:22|2021-01-11 20:15:49|         262|         231|      9.61|     2127|              34.54|  0.0|1.04|     3.07|                2.75|       null|8.41|      28.4|                  N|                N|                  |               N|             N|\n",
      "|           HV0003|              B02617|              B02617|2021-01-05 16:09:21|2021-01-05 16:12:56|2021-01-05 16:13:22|2021-01-05 16:27:50|          61|         181|      2.86|      868|              14.73|  0.0|0.44|     1.31|                 0.0|       null| 0.0|     10.42|                  N|                N|                  |               N|             N|\n",
      "|           HV0005|              B02510|                null|2021-01-02 15:24:29|               null|2021-01-02 15:29:43|2021-01-02 15:57:51|         100|           1|    16.899|     1688|              80.04|21.99|3.06|      0.0|                 0.0|       null| 0.0|      41.3|                  N|                N|                 N|               N|             N|\n",
      "|           HV0003|              B02882|              B02882|2021-01-31 19:24:39|2021-01-31 19:40:09|2021-01-31 19:42:09|2021-01-31 19:59:52|         232|           4|      1.51|     1063|              10.61|  0.0|0.33|     0.99|                2.75|       null| 0.0|     10.68|                  N|                N|                  |               N|             N|\n",
      "|           HV0004|              B02800|                null|2021-01-05 20:28:05|               null|2021-01-05 20:33:01|2021-01-05 21:05:08|         162|           1|     16.21|     1926|              66.95|  0.0| 0.0|      0.0|                 0.0|       null| 0.0|     35.04|                  N|                N|                 N|               N|             N|\n",
      "|           HV0003|              B02883|              B02883|2021-01-27 23:19:18|2021-01-27 23:23:20|2021-01-27 23:24:36|2021-01-27 23:26:43|          68|          68|       0.2|      127|              10.38|  0.0|0.31|     0.92|                2.75|       null| 0.0|       6.8|                  N|                N|                  |               N|             N|\n",
      "|           HV0005|              B02510|                null|2021-01-18 01:39:02|               null|2021-01-18 01:52:32|2021-01-18 02:00:12|         205|         205|     1.448|      460|               6.87|  0.0|0.21|     0.61|                 0.0|       null| 0.0|      5.47|                  N|                N|                 N|               N|             N|\n",
      "|           HV0003|              B02869|              B02869|2021-01-30 09:31:55|2021-01-30 09:35:45|2021-01-30 09:35:46|2021-01-30 09:39:42|         256|         255|      0.58|      236|               7.91|  0.0|0.24|      0.7|                 0.0|       null| 0.0|      5.39|                  N|                N|                  |               N|             N|\n",
      "|           HV0003|              B02875|              B02875|2021-01-16 03:23:46|2021-01-16 03:24:46|2021-01-16 03:25:35|2021-01-16 03:34:21|          89|          91|      2.05|      526|                9.9|  0.0| 0.3|     0.88|                 0.0|       null| 0.0|      8.62|                  N|                N|                  |               N|             Y|\n",
      "|           HV0005|              B02510|                null|2021-01-05 03:11:17|               null|2021-01-05 03:17:29|2021-01-05 03:36:56|         132|         102|    10.505|     1167|              35.75|  0.0|1.07|     3.17|                 0.0|       null| 0.0|     21.43|                  N|                N|                 N|               N|             N|\n",
      "|           HV0003|              B02764|              B02764|2021-01-11 12:55:20|2021-01-11 12:57:46|2021-01-11 12:58:23|2021-01-11 13:14:19|          97|          61|      2.76|      956|              12.36|  0.0|0.37|      1.1|                 0.0|       null| 0.0|     11.05|                  N|                N|                  |               N|             N|\n",
      "|           HV0005|              B02510|                null|2021-01-22 04:36:25|               null|2021-01-22 04:41:19|2021-01-22 05:08:12|          79|          37|     6.585|     1613|              27.02| 1.01|0.84|     2.49|                2.75|       null| 2.0|     20.82|                  N|                N|                 N|               N|             N|\n",
      "|           HV0003|              B02866|              B02866|2021-01-03 08:42:21|2021-01-03 08:44:25|2021-01-03 08:44:58|2021-01-03 09:04:45|          26|         178|      3.06|     1187|              14.29|  0.0|0.43|     1.27|                 0.0|       null| 0.0|     13.76|                  N|                N|                  |               N|             N|\n",
      "|           HV0003|              B02889|              B02889|2021-01-14 19:48:33|2021-01-14 19:51:43|2021-01-14 19:52:00|2021-01-14 20:19:00|         181|         198|       5.1|     1620|              29.73|  0.0|0.89|     2.64|                 0.0|       null| 0.0|     21.31|                  N|                N|                  |               N|             N|\n",
      "|           HV0003|              B02764|              B02764|2021-01-08 21:31:03|2021-01-08 21:34:44|2021-01-08 21:35:35|2021-01-08 22:06:33|          76|          91|      6.26|     1858|              28.21|  0.0|0.85|      2.5|                 0.0|       null| 0.0|     22.46|                  N|                N|                  |               N|             N|\n",
      "|           HV0003|              B02876|              B02876|2021-01-15 14:44:47|2021-01-15 14:48:39|2021-01-15 14:49:48|2021-01-15 15:35:23|         246|          16|     15.67|     2735|              46.12| 6.12|1.57|     4.64|                2.75|       null| 0.0|     40.17|                  N|                N|                  |               N|             N|\n",
      "|           HV0003|              B02870|              B02870|2021-01-27 11:35:19|2021-01-27 11:37:28|2021-01-27 11:37:56|2021-01-27 11:53:35|         135|          73|      4.64|      939|              12.01|  0.0|0.36|     1.07|                 0.0|       null| 0.0|     12.98|                  N|                N|                  |               N|             N|\n",
      "|           HV0005|              B02510|                null|2021-01-18 12:40:34|               null|2021-01-18 12:43:30|2021-01-18 12:59:19|          74|         234|     6.122|      949|              22.22|  0.0|0.67|     1.97|                2.75|       null| 0.0|     14.74|                  N|                N|                 N|               N|             N|\n",
      "|           HV0003|              B02617|              B02617|2021-01-11 18:27:35|2021-01-11 18:29:33|2021-01-11 18:29:44|2021-01-11 18:42:49|          68|         211|      2.94|      785|              13.75|  0.0|0.41|     1.22|                2.75|       null| 0.0|      9.81|                  N|                N|                  |               N|             N|\n",
      "|           HV0003|              B02879|              B02879|2021-01-24 22:23:45|2021-01-24 22:31:41|2021-01-24 22:32:15|2021-01-24 22:52:42|         249|         236|      4.66|     1227|              17.38|  0.0|0.52|     1.54|                2.75|       null| 0.0|     15.41|                  N|                N|                  |               N|             N|\n",
      "+-----------------+--------------------+--------------------+-------------------+-------------------+-------------------+-------------------+------------+------------+----------+---------+-------------------+-----+----+---------+--------------------+-----------+----+----------+-------------------+-----------------+------------------+----------------+--------------+\n",
      "only showing top 20 rows\n",
      "\n"
     ]
    }
   ],
   "source": [
    "df.show()"
   ]
  },
  {
   "cell_type": "markdown",
   "metadata": {},
   "source": [
    "**Now**: Creating new columns for data-columns that are created from the `pickup_datetime` and `dropoff_datetime`."
   ]
  },
  {
   "cell_type": "code",
   "execution_count": 25,
   "metadata": {},
   "outputs": [
    {
     "name": "stdout",
     "output_type": "stream",
     "text": [
      "+-----------+------------+------------+------------+\n",
      "|pickup_date|dropoff_date|PULocationID|DOLocationID|\n",
      "+-----------+------------+------------+------------+\n",
      "| 2021-01-11|  2021-01-11|         262|         231|\n",
      "| 2021-01-05|  2021-01-05|          61|         181|\n",
      "| 2021-01-02|  2021-01-02|         100|           1|\n",
      "| 2021-01-31|  2021-01-31|         232|           4|\n",
      "| 2021-01-05|  2021-01-05|         162|           1|\n",
      "| 2021-01-27|  2021-01-27|          68|          68|\n",
      "| 2021-01-18|  2021-01-18|         205|         205|\n",
      "| 2021-01-30|  2021-01-30|         256|         255|\n",
      "| 2021-01-16|  2021-01-16|          89|          91|\n",
      "| 2021-01-05|  2021-01-05|         132|         102|\n",
      "| 2021-01-11|  2021-01-11|          97|          61|\n",
      "| 2021-01-22|  2021-01-22|          79|          37|\n",
      "| 2021-01-03|  2021-01-03|          26|         178|\n",
      "| 2021-01-14|  2021-01-14|         181|         198|\n",
      "| 2021-01-08|  2021-01-08|          76|          91|\n",
      "| 2021-01-15|  2021-01-15|         246|          16|\n",
      "| 2021-01-27|  2021-01-27|         135|          73|\n",
      "| 2021-01-18|  2021-01-18|          74|         234|\n",
      "| 2021-01-11|  2021-01-11|          68|         211|\n",
      "| 2021-01-24|  2021-01-24|         249|         236|\n",
      "+-----------+------------+------------+------------+\n",
      "only showing top 20 rows\n",
      "\n"
     ]
    }
   ],
   "source": [
    "df.withColumn(\"pickup_date\", F.to_date(df.pickup_datetime)) \\\n",
    "  .withColumn(\"dropoff_date\", F.to_date(df.dropoff_datetime)) \\\n",
    "  .select(\"pickup_date\", \"dropoff_date\", \"PULocationID\", \"DOLocationID\") \\\n",
    "  .show()"
   ]
  },
  {
   "cell_type": "markdown",
   "metadata": {},
   "source": [
    "It is also possible to write your own custom function that is applied to the dataframe. This is especially helpful if your requirement is hard to realize as a SQL-query: "
   ]
  },
  {
   "cell_type": "code",
   "execution_count": 26,
   "metadata": {},
   "outputs": [],
   "source": [
    "def crazy_stuff(base_num):\n",
    "    num = int(base_num[1:])\n",
    "    if num % 7 == 0:\n",
    "        return f\"s/{num:03x}\"\n",
    "    elif num % 3 == 0:\n",
    "        return f\"a/{num:03x}\"\n",
    "    else:\n",
    "        return f\"e/{num:03x}\""
   ]
  },
  {
   "cell_type": "code",
   "execution_count": 27,
   "metadata": {},
   "outputs": [
    {
     "data": {
      "text/plain": [
       "'s/b44'"
      ]
     },
     "execution_count": 27,
     "metadata": {},
     "output_type": "execute_result"
    }
   ],
   "source": [
    "crazy_stuff(\"B02884\") # Looks right"
   ]
  },
  {
   "cell_type": "markdown",
   "metadata": {},
   "source": [
    "Using the user defined function as a function on Spark dataframe:"
   ]
  },
  {
   "cell_type": "code",
   "execution_count": 28,
   "metadata": {},
   "outputs": [],
   "source": [
    "crazy_stuff_udf = F.udf(crazy_stuff, returnType=types.StringType())"
   ]
  },
  {
   "cell_type": "code",
   "execution_count": 29,
   "metadata": {},
   "outputs": [
    {
     "name": "stderr",
     "output_type": "stream",
     "text": [
      "[Stage 15:>                                                         (0 + 1) / 1]\r"
     ]
    },
    {
     "name": "stdout",
     "output_type": "stream",
     "text": [
      "+-------+-----------+------------+------------+------------+\n",
      "|base_id|pickup_date|dropoff_date|PULocationID|DOLocationID|\n",
      "+-------+-----------+------------+------------+------------+\n",
      "|  e/acc| 2021-01-11|  2021-01-11|         262|         231|\n",
      "|  e/a39| 2021-01-05|  2021-01-05|          61|         181|\n",
      "|  e/9ce| 2021-01-02|  2021-01-02|         100|           1|\n",
      "|  e/b42| 2021-01-31|  2021-01-31|         232|           4|\n",
      "|  s/af0| 2021-01-05|  2021-01-05|         162|           1|\n",
      "|  a/b43| 2021-01-27|  2021-01-27|          68|          68|\n",
      "|  e/9ce| 2021-01-18|  2021-01-18|         205|         205|\n",
      "|  e/b35| 2021-01-30|  2021-01-30|         256|         255|\n",
      "|  e/b3b| 2021-01-16|  2021-01-16|          89|          91|\n",
      "|  e/9ce| 2021-01-05|  2021-01-05|         132|         102|\n",
      "|  e/acc| 2021-01-11|  2021-01-11|          97|          61|\n",
      "|  e/9ce| 2021-01-22|  2021-01-22|          79|          37|\n",
      "|  e/b32| 2021-01-03|  2021-01-03|          26|         178|\n",
      "|  a/b49| 2021-01-14|  2021-01-14|         181|         198|\n",
      "|  e/acc| 2021-01-08|  2021-01-08|          76|          91|\n",
      "|  e/b3c| 2021-01-15|  2021-01-15|         246|          16|\n",
      "|  s/b36| 2021-01-27|  2021-01-27|         135|          73|\n",
      "|  e/9ce| 2021-01-18|  2021-01-18|          74|         234|\n",
      "|  e/a39| 2021-01-11|  2021-01-11|          68|         211|\n",
      "|  e/b3f| 2021-01-24|  2021-01-24|         249|         236|\n",
      "+-------+-----------+------------+------------+------------+\n",
      "only showing top 20 rows\n",
      "\n"
     ]
    },
    {
     "name": "stderr",
     "output_type": "stream",
     "text": [
      "                                                                                \r"
     ]
    }
   ],
   "source": [
    "df.withColumn(\"pickup_date\", F.to_date(df.pickup_datetime)) \\\n",
    "  .withColumn(\"dropoff_date\", F.to_date(df.dropoff_datetime)) \\\n",
    "  .withColumn(\"base_id\", crazy_stuff_udf(df.dispatching_base_num)) \\\n",
    "  .select(\"base_id\", \"pickup_date\", \"dropoff_date\", \"PULocationID\", \"DOLocationID\") \\\n",
    "  .show()"
   ]
  },
  {
   "cell_type": "markdown",
   "metadata": {},
   "source": [
    "### 5.3.4 SQL with Spark"
   ]
  },
  {
   "cell_type": "code",
   "execution_count": 30,
   "metadata": {},
   "outputs": [],
   "source": [
    "import pyspark\n",
    "from pyspark.sql import SparkSession\n",
    "\n",
    "spark = SparkSession.builder \\\n",
    "    .master(\"local[*]\") \\\n",
    "    .appName(\"test\") \\\n",
    "    .getOrCreate()"
   ]
  },
  {
   "cell_type": "markdown",
   "metadata": {},
   "source": [
    "**Loading green taxi data and yellow taxi data to spark dataframe**"
   ]
  },
  {
   "cell_type": "code",
   "execution_count": 31,
   "metadata": {},
   "outputs": [],
   "source": [
    "# Loading data from all years and months of the green taxi dataset \n",
    "df_green = spark.read.parquet(\"../data/data/raw/green/*/*\")"
   ]
  },
  {
   "cell_type": "code",
   "execution_count": 32,
   "metadata": {},
   "outputs": [],
   "source": [
    "# Required when putting datasets together (green uses lpep, yellow uses tpep in datetime)\n",
    "df_green = df_green \\\n",
    "    .withColumnRenamed(\"lpep_pickup_datetime\", \"pickup_datetime\") \\\n",
    "    .withColumnRenamed(\"lpep_dropoff_datetime\", \"dropoff_datetime\")"
   ]
  },
  {
   "cell_type": "code",
   "execution_count": 33,
   "metadata": {},
   "outputs": [
    {
     "name": "stdout",
     "output_type": "stream",
     "text": [
      "root\n",
      " |-- VendorID: long (nullable = true)\n",
      " |-- pickup_datetime: timestamp (nullable = true)\n",
      " |-- dropoff_datetime: timestamp (nullable = true)\n",
      " |-- store_and_fwd_flag: string (nullable = true)\n",
      " |-- RatecodeID: double (nullable = true)\n",
      " |-- PULocationID: long (nullable = true)\n",
      " |-- DOLocationID: long (nullable = true)\n",
      " |-- passenger_count: double (nullable = true)\n",
      " |-- trip_distance: double (nullable = true)\n",
      " |-- fare_amount: double (nullable = true)\n",
      " |-- extra: double (nullable = true)\n",
      " |-- mta_tax: double (nullable = true)\n",
      " |-- tip_amount: double (nullable = true)\n",
      " |-- tolls_amount: double (nullable = true)\n",
      " |-- ehail_fee: integer (nullable = true)\n",
      " |-- improvement_surcharge: double (nullable = true)\n",
      " |-- total_amount: double (nullable = true)\n",
      " |-- payment_type: double (nullable = true)\n",
      " |-- trip_type: double (nullable = true)\n",
      " |-- congestion_surcharge: double (nullable = true)\n",
      "\n"
     ]
    }
   ],
   "source": [
    "df_green.printSchema()"
   ]
  },
  {
   "cell_type": "code",
   "execution_count": 34,
   "metadata": {},
   "outputs": [
    {
     "name": "stdout",
     "output_type": "stream",
     "text": [
      "+--------+-------------------+-------------------+------------------+----------+------------+------------+---------------+-------------+-----------+-----+-------+----------+------------+---------+---------------------+------------+------------+---------+--------------------+\n",
      "|VendorID|    pickup_datetime|   dropoff_datetime|store_and_fwd_flag|RatecodeID|PULocationID|DOLocationID|passenger_count|trip_distance|fare_amount|extra|mta_tax|tip_amount|tolls_amount|ehail_fee|improvement_surcharge|total_amount|payment_type|trip_type|congestion_surcharge|\n",
      "+--------+-------------------+-------------------+------------------+----------+------------+------------+---------------+-------------+-----------+-----+-------+----------+------------+---------+---------------------+------------+------------+---------+--------------------+\n",
      "|       2|2019-12-18 16:52:30|2019-12-18 16:54:39|                 N|       1.0|         264|         264|            5.0|          0.0|        3.5|  0.5|    0.5|      0.01|         0.0|     null|                  0.3|        4.81|         1.0|      1.0|                 0.0|\n",
      "|       2|2020-01-01 01:45:58|2020-01-01 01:56:39|                 N|       5.0|          66|          65|            2.0|         1.28|       20.0|  0.0|    0.0|      4.06|         0.0|     null|                  0.3|       24.36|         1.0|      2.0|                 0.0|\n",
      "|       2|2020-01-01 01:41:38|2020-01-01 01:52:49|                 N|       1.0|         181|         228|            1.0|         2.47|       10.5|  0.5|    0.5|      3.54|         0.0|     null|                  0.3|       15.34|         1.0|      1.0|                 0.0|\n",
      "|       1|2020-01-01 01:52:46|2020-01-01 02:14:21|                 N|       1.0|         129|         263|            2.0|          6.3|       21.0| 3.25|    0.5|       0.0|         0.0|     null|                  0.3|       25.05|         2.0|      1.0|                2.75|\n",
      "|       1|2020-01-01 01:19:57|2020-01-01 01:30:56|                 N|       1.0|         210|         150|            1.0|          2.3|       10.0|  0.5|    0.5|       0.0|         0.0|     null|                  0.3|        11.3|         1.0|      1.0|                 0.0|\n",
      "+--------+-------------------+-------------------+------------------+----------+------------+------------+---------------+-------------+-----------+-----+-------+----------+------------+---------+---------------------+------------+------------+---------+--------------------+\n",
      "only showing top 5 rows\n",
      "\n"
     ]
    }
   ],
   "source": [
    "df_green.show(5)"
   ]
  },
  {
   "cell_type": "code",
   "execution_count": 35,
   "metadata": {},
   "outputs": [],
   "source": [
    "# Load yellow taxi data from 2020 & 2021\n",
    "df_yellow = spark.read.parquet(\"../data/data/raw/yellow/*/*\")"
   ]
  },
  {
   "cell_type": "code",
   "execution_count": 36,
   "metadata": {},
   "outputs": [],
   "source": [
    "# Required when putting datasets together (green uses lpep, yellow uses tpep in datetime)\n",
    "df_yellow = df_yellow \\\n",
    "    .withColumnRenamed(\"tpep_pickup_datetime\", \"pickup_datetime\") \\\n",
    "    .withColumnRenamed(\"tpep_dropoff_datetime\", \"dropoff_datetime\")"
   ]
  },
  {
   "cell_type": "code",
   "execution_count": 37,
   "metadata": {},
   "outputs": [
    {
     "name": "stdout",
     "output_type": "stream",
     "text": [
      "root\n",
      " |-- VendorID: long (nullable = true)\n",
      " |-- pickup_datetime: timestamp (nullable = true)\n",
      " |-- dropoff_datetime: timestamp (nullable = true)\n",
      " |-- passenger_count: double (nullable = true)\n",
      " |-- trip_distance: double (nullable = true)\n",
      " |-- RatecodeID: double (nullable = true)\n",
      " |-- store_and_fwd_flag: string (nullable = true)\n",
      " |-- PULocationID: long (nullable = true)\n",
      " |-- DOLocationID: long (nullable = true)\n",
      " |-- payment_type: long (nullable = true)\n",
      " |-- fare_amount: double (nullable = true)\n",
      " |-- extra: double (nullable = true)\n",
      " |-- mta_tax: double (nullable = true)\n",
      " |-- tip_amount: double (nullable = true)\n",
      " |-- tolls_amount: double (nullable = true)\n",
      " |-- improvement_surcharge: double (nullable = true)\n",
      " |-- total_amount: double (nullable = true)\n",
      " |-- congestion_surcharge: double (nullable = true)\n",
      " |-- airport_fee: integer (nullable = true)\n",
      "\n"
     ]
    }
   ],
   "source": [
    "# The generic puckup and dropoff column-names are used now\n",
    "df_yellow.printSchema()"
   ]
  },
  {
   "cell_type": "code",
   "execution_count": 38,
   "metadata": {},
   "outputs": [
    {
     "name": "stdout",
     "output_type": "stream",
     "text": [
      "+--------+-------------------+-------------------+---------------+-------------+----------+------------------+------------+------------+------------+-----------+-----+-------+----------+------------+---------------------+------------+--------------------+-----------+\n",
      "|VendorID|    pickup_datetime|   dropoff_datetime|passenger_count|trip_distance|RatecodeID|store_and_fwd_flag|PULocationID|DOLocationID|payment_type|fare_amount|extra|mta_tax|tip_amount|tolls_amount|improvement_surcharge|total_amount|congestion_surcharge|airport_fee|\n",
      "+--------+-------------------+-------------------+---------------+-------------+----------+------------------+------------+------------+------------+-----------+-----+-------+----------+------------+---------------------+------------+--------------------+-----------+\n",
      "|       1|2020-01-01 01:28:15|2020-01-01 01:33:03|            1.0|          1.2|       1.0|                 N|         238|         239|           1|        6.0|  3.0|    0.5|      1.47|         0.0|                  0.3|       11.27|                 2.5|       null|\n",
      "|       1|2020-01-01 01:35:39|2020-01-01 01:43:04|            1.0|          1.2|       1.0|                 N|         239|         238|           1|        7.0|  3.0|    0.5|       1.5|         0.0|                  0.3|        12.3|                 2.5|       null|\n",
      "|       1|2020-01-01 01:47:41|2020-01-01 01:53:52|            1.0|          0.6|       1.0|                 N|         238|         238|           1|        6.0|  3.0|    0.5|       1.0|         0.0|                  0.3|        10.8|                 2.5|       null|\n",
      "|       1|2020-01-01 01:55:23|2020-01-01 02:00:14|            1.0|          0.8|       1.0|                 N|         238|         151|           1|        5.5|  0.5|    0.5|      1.36|         0.0|                  0.3|        8.16|                 0.0|       null|\n",
      "|       2|2020-01-01 01:01:58|2020-01-01 01:04:16|            1.0|          0.0|       1.0|                 N|         193|         193|           2|        3.5|  0.5|    0.5|       0.0|         0.0|                  0.3|         4.8|                 0.0|       null|\n",
      "+--------+-------------------+-------------------+---------------+-------------+----------+------------------+------------+------------+------------+-----------+-----+-------+----------+------------+---------------------+------------+--------------------+-----------+\n",
      "only showing top 5 rows\n",
      "\n"
     ]
    },
    {
     "name": "stderr",
     "output_type": "stream",
     "text": [
      "                                                                                \r"
     ]
    }
   ],
   "source": [
    "df_yellow.show(5)"
   ]
  },
  {
   "cell_type": "markdown",
   "metadata": {},
   "source": [
    "**Creating one dataframe from both datasets**\n",
    "- Only columns that are same in both datasets are retained"
   ]
  },
  {
   "cell_type": "code",
   "execution_count": 39,
   "metadata": {},
   "outputs": [
    {
     "data": {
      "text/plain": [
       "{'DOLocationID',\n",
       " 'PULocationID',\n",
       " 'RatecodeID',\n",
       " 'VendorID',\n",
       " 'congestion_surcharge',\n",
       " 'dropoff_datetime',\n",
       " 'extra',\n",
       " 'fare_amount',\n",
       " 'improvement_surcharge',\n",
       " 'mta_tax',\n",
       " 'passenger_count',\n",
       " 'payment_type',\n",
       " 'pickup_datetime',\n",
       " 'store_and_fwd_flag',\n",
       " 'tip_amount',\n",
       " 'tolls_amount',\n",
       " 'total_amount',\n",
       " 'trip_distance'}"
      ]
     },
     "execution_count": 39,
     "metadata": {},
     "output_type": "execute_result"
    }
   ],
   "source": [
    "# Intersection of columns (original column order not preserved)\n",
    "cols = set(df_green.columns) & set(df_yellow.columns)\n",
    "cols"
   ]
  },
  {
   "cell_type": "code",
   "execution_count": 40,
   "metadata": {},
   "outputs": [],
   "source": [
    "# Getting the intersecting columns in their original order\n",
    "common_columns = []\n",
    "\n",
    "yellow_cols = set(df_yellow.columns)\n",
    "\n",
    "for col in df_green.columns:\n",
    "    if col in yellow_cols:\n",
    "        common_columns.append(col)"
   ]
  },
  {
   "cell_type": "code",
   "execution_count": 41,
   "metadata": {},
   "outputs": [],
   "source": [
    "from pyspark.sql import functions as F"
   ]
  },
  {
   "cell_type": "code",
   "execution_count": 42,
   "metadata": {},
   "outputs": [],
   "source": [
    "# Adding `service_type` to the datasets s.t. the data \n",
    "# can be associated with the original dataset\n",
    "df_green_sel = df_green \\\n",
    "    .select(common_columns) \\\n",
    "    .withColumn(\"service_type\", F.lit(\"green\"))"
   ]
  },
  {
   "cell_type": "code",
   "execution_count": 44,
   "metadata": {},
   "outputs": [],
   "source": [
    "# Adding `service_type` to the datasets s.t. the data can be associated with a specific origin\n",
    "df_yellow_sel = df_yellow \\\n",
    "    .select(common_columns) \\\n",
    "    .withColumn(\"service_type\", F.lit(\"yellow\"))"
   ]
  },
  {
   "cell_type": "markdown",
   "metadata": {},
   "source": [
    "Combining both dataframes into one:"
   ]
  },
  {
   "cell_type": "code",
   "execution_count": 45,
   "metadata": {},
   "outputs": [],
   "source": [
    "df_trips_data = df_green_sel.unionAll(df_yellow_sel)"
   ]
  },
  {
   "cell_type": "code",
   "execution_count": 46,
   "metadata": {},
   "outputs": [
    {
     "name": "stderr",
     "output_type": "stream",
     "text": [
      "[Stage 20:====================================================>   (16 + 1) / 17]\r"
     ]
    },
    {
     "name": "stdout",
     "output_type": "stream",
     "text": [
      "+------------+--------+\n",
      "|service_type|   count|\n",
      "+------------+--------+\n",
      "|       green| 2802931|\n",
      "|      yellow|55553400|\n",
      "+------------+--------+\n",
      "\n"
     ]
    },
    {
     "name": "stderr",
     "output_type": "stream",
     "text": [
      "                                                                                \r"
     ]
    }
   ],
   "source": [
    "df_trips_data.groupBy(\"service_type\").count().show()"
   ]
  },
  {
   "cell_type": "markdown",
   "metadata": {},
   "source": [
    "Calling the data with `SQL` commands:"
   ]
  },
  {
   "cell_type": "code",
   "execution_count": 47,
   "metadata": {},
   "outputs": [],
   "source": [
    "# Creating a view of the spark dataframe to send a query to\n",
    "df_trips_data.createOrReplaceTempView(\"trips_data\")"
   ]
  },
  {
   "cell_type": "markdown",
   "metadata": {},
   "source": [
    "SQL-Version of this spark code:\n",
    "```python\n",
    "df_trips_data.groupBy(\"service_type\").count().show()\n",
    "```"
   ]
  },
  {
   "cell_type": "code",
   "execution_count": 48,
   "metadata": {},
   "outputs": [
    {
     "name": "stderr",
     "output_type": "stream",
     "text": [
      "[Stage 23:====================================================>   (16 + 1) / 17]\r"
     ]
    },
    {
     "name": "stdout",
     "output_type": "stream",
     "text": [
      "+------------+--------+\n",
      "|service_type|   count|\n",
      "+------------+--------+\n",
      "|       green| 2802931|\n",
      "|      yellow|55553400|\n",
      "+------------+--------+\n",
      "\n"
     ]
    },
    {
     "name": "stderr",
     "output_type": "stream",
     "text": [
      "                                                                                \r"
     ]
    }
   ],
   "source": [
    "spark.sql(\"\"\"\n",
    "SELECT \n",
    "    service_type,\n",
    "    COUNT(1) as count\n",
    "FROM \n",
    "    trips_data\n",
    "GROUP BY\n",
    "    service_type\n",
    "\"\"\").show()"
   ]
  },
  {
   "cell_type": "code",
   "execution_count": null,
   "metadata": {},
   "outputs": [],
   "source": [
    "query = \"\"\"\n",
    "SELECT \n",
    "    -- Reveneue grouping \n",
    "    PULocationID AS revenue_zone,\n",
    "    date_trunc('month', pickup_datetime) AS revenue_month, \n",
    "    service_type, \n",
    "\n",
    "    -- Revenue calculation \n",
    "    SUM(fare_amount) AS revenue_monthly_fare,\n",
    "    SUM(extra) AS revenue_monthly_extra,\n",
    "    SUM(mta_tax) AS revenue_monthly_mta_tax,\n",
    "    SUM(tip_amount) AS revenue_monthly_tip_amount,\n",
    "    SUM(tolls_amount) AS revenue_monthly_tolls_amount,\n",
    "    SUM(improvement_surcharge) AS revenue_monthly_improvement_surcharge,\n",
    "    SUM(total_amount) AS revenue_monthly_total_amount,\n",
    "    SUM(congestion_surcharge) AS revenue_monthly_congestion_surcharge,\n",
    "\n",
    "    -- Additional calculations\n",
    "    AVG(passenger_count) AS avg_montly_passenger_count,\n",
    "    AVG(trip_distance) AS avg_montly_trip_distance\n",
    "FROM\n",
    "    trips_data\n",
    "GROUP BY\n",
    "    1, 2, 3\n",
    "\"\"\"\n",
    "\n",
    "df_result = spark.sql(query)"
   ]
  },
  {
   "cell_type": "code",
   "execution_count": 50,
   "metadata": {},
   "outputs": [
    {
     "name": "stderr",
     "output_type": "stream",
     "text": [
      "[Stage 26:====================================================>   (16 + 1) / 17]\r"
     ]
    },
    {
     "name": "stdout",
     "output_type": "stream",
     "text": [
      "+------------+-------------------+------------+--------------------+---------------------+-----------------------+--------------------------+----------------------------+-------------------------------------+----------------------------+------------------------------------+--------------------------+------------------------+\n",
      "|revenue_zone|      revenue_month|service_type|revenue_monthly_fare|revenue_monthly_extra|revenue_monthly_mta_tax|revenue_monthly_tip_amount|revenue_monthly_tolls_amount|revenue_monthly_improvement_surcharge|revenue_monthly_total_amount|revenue_monthly_congestion_surcharge|avg_montly_passenger_count|avg_montly_trip_distance|\n",
      "+------------+-------------------+------------+--------------------+---------------------+-----------------------+--------------------------+----------------------------+-------------------------------------+----------------------------+------------------------------------+--------------------------+------------------------+\n",
      "|          19|2020-02-01 00:00:00|       green|   6657.659999999997|               431.75|                   24.5|                       5.0|          143.05000000000004|                    55.19999999999983|           7317.160000000004|                                 0.0|                       1.0|        8.20420212765958|\n",
      "|          72|2020-02-01 00:00:00|       green|  26866.740000000125|              2483.25|                  187.5|         76.25000000000001|          404.11000000000024|                   300.30000000000564|          30327.899999999914|                                 0.0|        1.1813725490196079|       184.6297354014599|\n",
      "|         150|2020-02-01 00:00:00|       green|   7963.899999999998|                651.5|                   57.0|        111.00999999999999|           87.96999999999998|                    82.79999999999957|           8956.129999999981|                                 0.0|        1.0129870129870129|       6.171721854304635|\n",
      "|          66|2020-03-01 00:00:00|       green|  50744.969999999994|               1760.5|                 1568.5|         8434.050000000016|                       147.3|                    971.9999999999447|            66787.0200000016|                              3576.0|        1.5741853843720341|       4.022946785604422|\n",
      "|         173|2020-01-01 00:00:00|       green|  15805.270000000004|                860.0|                  375.0|        262.90999999999997|           384.5300000000002|                    296.1000000000055|           18010.50999999994|                               30.25|        1.4265463917525774|      3.2089095992544268|\n",
      "|         208|2020-02-01 00:00:00|       green|  12883.520000000002|               1065.0|                   85.0|         99.24999999999999|           374.3100000000002|                    145.7999999999998|          14661.480000000038|                                2.75|        1.2037037037037037|       4.859489051094891|\n",
      "|         197|2020-01-01 00:00:00|       green|   43522.34999999998|               1847.0|                  336.5|        126.97999999999999|            2301.05999999998|                    380.7000000000087|           48537.99000000016|                                16.5|        1.1779816513761467|       8.524692653673167|\n",
      "|         178|2020-01-01 00:00:00|       green|   4800.800000000001|               266.25|                   40.5|                      4.16|          124.46000000000002|                   50.699999999999875|                     5288.82|                                 0.0|        1.2682926829268293|        4.15822966507177|\n",
      "|         204|2020-01-01 00:00:00|       green|               93.45|                 2.75|                    0.5|                       0.0|                        23.5|                                  0.3|                       120.5|                                null|                      null|                   44.47|\n",
      "|         124|2020-02-01 00:00:00|       green|  5373.2199999999975|                396.0|                   28.5|                       4.0|           93.30000000000001|                    53.39999999999985|           5948.420000000004|                                 0.0|        1.1363636363636365|       7.019005524861881|\n",
      "|          60|2020-02-01 00:00:00|       green|   8463.770000000004|               726.75|                   75.0|                     20.04|          257.04000000000013|                   107.99999999999933|           9655.299999999988|                                2.75|        1.1055900621118013|       4.390073710073709|\n",
      "|         257|2020-02-01 00:00:00|       green|   4635.620000000002|                383.0|                   52.0|        148.31000000000006|           195.8400000000001|                    61.79999999999977|            5537.56999999999|                                22.0|        1.1818181818181819|       25.30913242009133|\n",
      "|          89|2020-01-01 00:00:00|       green|  53814.319999999796|              3609.75|                  545.5|                    413.19|          1059.2199999999996|                    612.2999999999985|           60147.17999999996|                                55.0|          1.21483771251932|       4.773319130805284|\n",
      "|          88|2020-02-01 00:00:00|       green|             3366.08|               229.25|                    7.0|                       0.0|           239.4300000000001|                   26.700000000000042|          3868.4600000000028|                                 0.0|                       1.0|      10.510666666666665|\n",
      "|          95|2020-01-01 00:00:00|       green|  165173.62000000203|               8048.0|                 6066.5|        13395.030000000004|           2529.819999999975|                   3994.8000000009615|          199904.46999999552|                               722.5|         1.375327868852459|       2.789445756457564|\n",
      "|          93|2020-01-01 00:00:00|       green|  3942.7300000000014|                132.5|                   51.0|                     85.04|                       73.44|                    46.79999999999991|                     4341.71|                                8.25|        1.3392857142857142|      5.8942073170731675|\n",
      "|         151|2020-01-01 00:00:00|       green|   4614.640000000001|                347.5|                   26.5|                       0.0|          252.68000000000012|                    53.09999999999985|           5294.420000000004|                                 0.0|                       1.0|       6.696448087431697|\n",
      "|         216|2020-02-01 00:00:00|       green|  19759.160000000065|               1245.0|                  110.5|        102.96000000000001|          424.25000000000034|                    195.3000000000017|           21844.62000000005|                                 5.5|        1.1793893129770991|       6.684106351550963|\n",
      "|         186|2020-02-01 00:00:00|       green|  1189.1799999999998|                105.0|                    4.0|                       0.0|                       72.41|                   10.500000000000004|          1381.0900000000004|                                 0.0|                       1.0|       8.831428571428573|\n",
      "|           7|2020-01-01 00:00:00|       green|  168776.27999999753|               7909.5|                 7426.0|        12925.489999999965|          1746.7599999999882|                    4719.900000001401|          206913.72999998392|                             3448.25|        1.4406937958639092|      2.2930922990162346|\n",
      "+------------+-------------------+------------+--------------------+---------------------+-----------------------+--------------------------+----------------------------+-------------------------------------+----------------------------+------------------------------------+--------------------------+------------------------+\n",
      "only showing top 20 rows\n",
      "\n"
     ]
    },
    {
     "name": "stderr",
     "output_type": "stream",
     "text": [
      "                                                                                \r"
     ]
    }
   ],
   "source": [
    "df_result.show()"
   ]
  },
  {
   "cell_type": "markdown",
   "metadata": {},
   "source": [
    "Saving the result of the query:"
   ]
  },
  {
   "cell_type": "code",
   "execution_count": 54,
   "metadata": {},
   "outputs": [
    {
     "name": "stderr",
     "output_type": "stream",
     "text": [
      "                                                                                \r"
     ]
    }
   ],
   "source": [
    "# Saves the df to as many parquet files as the dataframe has partitions\n",
    "df_result.coalesce(1).write.parquet(\n",
    "    \"../data/data/report/revenue\",\n",
    "    mode=\"overwrite\"\n",
    ")"
   ]
  },
  {
   "cell_type": "markdown",
   "metadata": {},
   "source": [
    "To specify the number of partitions a dataframe should be saved to, the method `coalesce(numPartitions: int) -> DataFrame` can be used. This however only works if the dataframe is also partitioned. Otherwise the data will be saved to one file."
   ]
  },
  {
   "cell_type": "code",
   "execution_count": 55,
   "metadata": {},
   "outputs": [],
   "source": [
    "# Repartitioning is usually a costly operation \n",
    "# but is ok since the dataframe is not that big\n",
    "num_part = 24\n",
    "df_result = df_result.repartition(num_part)"
   ]
  },
  {
   "cell_type": "code",
   "execution_count": 56,
   "metadata": {},
   "outputs": [
    {
     "name": "stderr",
     "output_type": "stream",
     "text": [
      "                                                                                \r"
     ]
    }
   ],
   "source": [
    "df_result.coalesce(numPartitions=1).write.parquet(\"../data/data/report/revenue\", mode=\"overwrite\")\n",
    "df_result.coalesce(numPartitions=num_part).write.parquet(\"../data/data/report/revenue_partitioned\", mode=\"overwrite\")"
   ]
  }
 ],
 "metadata": {
  "kernelspec": {
   "display_name": "de-zoomcamp",
   "language": "python",
   "name": "python3"
  },
  "language_info": {
   "codemirror_mode": {
    "name": "ipython",
    "version": 3
   },
   "file_extension": ".py",
   "mimetype": "text/x-python",
   "name": "python",
   "nbconvert_exporter": "python",
   "pygments_lexer": "ipython3",
   "version": "3.9.18"
  }
 },
 "nbformat": 4,
 "nbformat_minor": 2
}
